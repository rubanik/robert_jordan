{
 "cells": [
  {
   "cell_type": "code",
   "execution_count": null,
   "metadata": {},
   "outputs": [],
   "source": [
    "import datetime"
   ]
  },
  {
   "cell_type": "code",
   "execution_count": null,
   "metadata": {},
   "outputs": [],
   "source": [
    "def db_execute(query,data):\n",
    "    print(f'OK -----   {query} + ',data)"
   ]
  },
  {
   "cell_type": "code",
   "execution_count": null,
   "metadata": {},
   "outputs": [],
   "source": [
    "class Plc:\n",
    "    def __init__(self,address):\n",
    "        self.address = address\n",
    "        self.connect()\n",
    "\n",
    "    def connect(self):\n",
    "        return (True,f'Connected to {self.address}')"
   ]
  },
  {
   "cell_type": "code",
   "execution_count": null,
   "metadata": {},
   "outputs": [],
   "source": [
    "class Variable:\n",
    "\n",
    "    def __init__(self,path,var_type,plc,\n",
    "                name='',ctrl_type = 'state'):\n",
    "        self.path = path\n",
    "        self.name = name if name else path\n",
    "        self.var_type = var_type\n",
    "        self.plc = plc\n",
    "        self.test = False\n",
    "\n",
    "    @property\n",
    "    def value(self):\n",
    "        if self.test:\n",
    "            return self.test\n",
    "        else: \n",
    "            return self.plc.read_by_name(self.path,self.var_type)# read from plc\n"
   ]
  },
  {
   "cell_type": "code",
   "execution_count": null,
   "metadata": {},
   "outputs": [],
   "source": [
    "class StateControler:\n",
    "\n",
    "    QUERY = 'BASIC_QUERY'\n",
    "\n",
    "    def __init__(self,var):\n",
    "        self.var = var\n",
    "        self.prev_state = self.var.value\n",
    "\n",
    "    @property\n",
    "    def change_detected(self):\n",
    "        return self.var.value != self.prev_state\n",
    "    \n",
    "    def set_previous_state(self):\n",
    "        self.prev_state = self.var.value\n",
    "\n",
    "    def check_state(self):\n",
    "        if self.change_detected:\n",
    "            print('State is changed')\n",
    "            self.execute_query()\n",
    "            self.set_previous_state()\n",
    "\n",
    "    def get_data(self):\n",
    "        return 'Some DATA'\n",
    "\n",
    "    def execute_query(self):\n",
    "        db_execute(self.QUERY, self.get_data())\n"
   ]
  },
  {
   "cell_type": "code",
   "execution_count": null,
   "metadata": {},
   "outputs": [],
   "source": [
    "class SwitchControl(StateControler):\n",
    "\n",
    "    QUERY = 'SWITCH_QUERY'\n",
    "\n",
    "    last_change_time = ''\n",
    "\n",
    "    @property\n",
    "    def time_of_switch(self):\n",
    "        return datetime.datetime.now()\n",
    "\n",
    "    def get_data(self):\n",
    "        name = self.var.name\n",
    "        value = self.var.value\n",
    "        timest = self.time_of_switch\n",
    "\n",
    "        return (name,timest,value)\n",
    "\n",
    "\n",
    "\n",
    "        "
   ]
  },
  {
   "cell_type": "code",
   "execution_count": 30,
   "metadata": {},
   "outputs": [
    {
     "name": "stderr",
     "output_type": "stream",
     "text": [
      "2022-04-17T15:13:54+0300 Info: Connected to 192.168.1.177\n"
     ]
    }
   ],
   "source": [
    "import pyads\n",
    "plc = pyads.Connection('192.168.1.177.1.1',801)\n",
    "plc.open()"
   ]
  },
  {
   "cell_type": "code",
   "execution_count": 31,
   "metadata": {},
   "outputs": [
    {
     "name": "stdout",
     "output_type": "stream",
     "text": [
      "State is changed\n",
      "OK -----   SWITCH_QUERY +  ('Switch 1', datetime.datetime(2022, 4, 17, 15, 14, 35, 945235), True)\n",
      "State is changed\n",
      "OK -----   SWITCH_QUERY +  ('Switch 1', datetime.datetime(2022, 4, 17, 15, 14, 39, 709965), False)\n",
      "State is changed\n",
      "OK -----   SWITCH_QUERY +  ('Switch 2', datetime.datetime(2022, 4, 17, 15, 14, 45, 412277), True)\n",
      "State is changed\n",
      "OK -----   SWITCH_QUERY +  ('Switch 2', datetime.datetime(2022, 4, 17, 15, 14, 46, 944414), False)\n",
      "State is changed\n",
      "OK -----   SWITCH_QUERY +  ('Switch 2', datetime.datetime(2022, 4, 17, 15, 14, 50, 401270), True)\n",
      "State is changed\n",
      "OK -----   SWITCH_QUERY +  ('Switch 2', datetime.datetime(2022, 4, 17, 15, 14, 51, 320130), False)\n",
      "State is changed\n",
      "OK -----   SWITCH_QUERY +  ('Switch 3', datetime.datetime(2022, 4, 17, 15, 14, 52, 92901), True)\n",
      "State is changed\n",
      "OK -----   SWITCH_QUERY +  ('Switch 3', datetime.datetime(2022, 4, 17, 15, 14, 52, 719899), False)\n",
      "State is changed\n",
      "OK -----   SWITCH_QUERY +  ('Switch 4', datetime.datetime(2022, 4, 17, 15, 14, 53, 632094), True)\n",
      "State is changed\n",
      "OK -----   SWITCH_QUERY +  ('Switch 4', datetime.datetime(2022, 4, 17, 15, 14, 54, 328258), False)\n",
      "State is changed\n",
      "OK -----   SWITCH_QUERY +  ('Switch 4', datetime.datetime(2022, 4, 17, 15, 14, 55, 505163), True)\n",
      "State is changed\n",
      "OK -----   SWITCH_QUERY +  ('Switch 4', datetime.datetime(2022, 4, 17, 15, 14, 56, 45154), False)\n",
      "State is changed\n",
      "OK -----   SWITCH_QUERY +  ('Switch 3', datetime.datetime(2022, 4, 17, 15, 14, 57, 799772), True)\n",
      "State is changed\n",
      "OK -----   SWITCH_QUERY +  ('Switch 3', datetime.datetime(2022, 4, 17, 15, 14, 58, 513745), False)\n",
      "State is changed\n",
      "OK -----   SWITCH_QUERY +  ('Switch 3', datetime.datetime(2022, 4, 17, 15, 15, 0, 969348), True)\n",
      "State is changed\n",
      "OK -----   SWITCH_QUERY +  ('Switch 3', datetime.datetime(2022, 4, 17, 15, 15, 1, 924464), False)\n",
      "State is changed\n",
      "OK -----   SWITCH_QUERY +  ('Switch 2', datetime.datetime(2022, 4, 17, 15, 15, 2, 735629), True)\n",
      "State is changed\n",
      "OK -----   SWITCH_QUERY +  ('Switch 2', datetime.datetime(2022, 4, 17, 15, 15, 3, 371747), False)\n",
      "State is changed\n",
      "OK -----   SWITCH_QUERY +  ('Switch 2', datetime.datetime(2022, 4, 17, 15, 15, 6, 885485), True)\n",
      "State is changed\n",
      "OK -----   SWITCH_QUERY +  ('Switch 2', datetime.datetime(2022, 4, 17, 15, 15, 7, 585935), False)\n",
      "State is changed\n",
      "OK -----   SWITCH_QUERY +  ('Switch 1', datetime.datetime(2022, 4, 17, 15, 15, 9, 35156), True)\n",
      "State is changed\n",
      "OK -----   SWITCH_QUERY +  ('Switch 1', datetime.datetime(2022, 4, 17, 15, 15, 20, 889633), False)\n",
      "State is changed\n",
      "OK -----   SWITCH_QUERY +  ('Switch 2', datetime.datetime(2022, 4, 17, 15, 15, 21, 400488), True)\n",
      "State is changed\n",
      "OK -----   SWITCH_QUERY +  ('Switch 2', datetime.datetime(2022, 4, 17, 15, 15, 50, 183428), False)\n",
      "State is changed\n",
      "OK -----   SWITCH_QUERY +  ('Switch 3', datetime.datetime(2022, 4, 17, 15, 15, 50, 873148), True)\n",
      "State is changed\n",
      "OK -----   SWITCH_QUERY +  ('Switch 3', datetime.datetime(2022, 4, 17, 15, 15, 51, 535859), False)\n"
     ]
    },
    {
     "ename": "ADSError",
     "evalue": "ADSError: timeout elapsed (1861). ",
     "output_type": "error",
     "traceback": [
      "\u001b[0;31m---------------------------------------------------------------------------\u001b[0m",
      "\u001b[0;31mADSError\u001b[0m                                  Traceback (most recent call last)",
      "\u001b[0;32m/tmp/ipykernel_6356/3487043226.py\u001b[0m in \u001b[0;36m<module>\u001b[0;34m\u001b[0m\n\u001b[1;32m     12\u001b[0m     \u001b[0ms1_sc\u001b[0m\u001b[0;34m.\u001b[0m\u001b[0mcheck_state\u001b[0m\u001b[0;34m(\u001b[0m\u001b[0;34m)\u001b[0m\u001b[0;34m\u001b[0m\u001b[0;34m\u001b[0m\u001b[0m\n\u001b[1;32m     13\u001b[0m     \u001b[0ms2_sc\u001b[0m\u001b[0;34m.\u001b[0m\u001b[0mcheck_state\u001b[0m\u001b[0;34m(\u001b[0m\u001b[0;34m)\u001b[0m\u001b[0;34m\u001b[0m\u001b[0;34m\u001b[0m\u001b[0m\n\u001b[0;32m---> 14\u001b[0;31m     \u001b[0ms3_sc\u001b[0m\u001b[0;34m.\u001b[0m\u001b[0mcheck_state\u001b[0m\u001b[0;34m(\u001b[0m\u001b[0;34m)\u001b[0m\u001b[0;34m\u001b[0m\u001b[0;34m\u001b[0m\u001b[0m\n\u001b[0m\u001b[1;32m     15\u001b[0m     \u001b[0ms4_sc\u001b[0m\u001b[0;34m.\u001b[0m\u001b[0mcheck_state\u001b[0m\u001b[0;34m(\u001b[0m\u001b[0;34m)\u001b[0m\u001b[0;34m\u001b[0m\u001b[0;34m\u001b[0m\u001b[0m\n\u001b[1;32m     16\u001b[0m \u001b[0;34m\u001b[0m\u001b[0m\n",
      "\u001b[0;32m/tmp/ipykernel_6356/1987450686.py\u001b[0m in \u001b[0;36mcheck_state\u001b[0;34m(self)\u001b[0m\n\u001b[1;32m     15\u001b[0m \u001b[0;34m\u001b[0m\u001b[0m\n\u001b[1;32m     16\u001b[0m     \u001b[0;32mdef\u001b[0m \u001b[0mcheck_state\u001b[0m\u001b[0;34m(\u001b[0m\u001b[0mself\u001b[0m\u001b[0;34m)\u001b[0m\u001b[0;34m:\u001b[0m\u001b[0;34m\u001b[0m\u001b[0;34m\u001b[0m\u001b[0m\n\u001b[0;32m---> 17\u001b[0;31m         \u001b[0;32mif\u001b[0m \u001b[0mself\u001b[0m\u001b[0;34m.\u001b[0m\u001b[0mchange_detected\u001b[0m\u001b[0;34m:\u001b[0m\u001b[0;34m\u001b[0m\u001b[0;34m\u001b[0m\u001b[0m\n\u001b[0m\u001b[1;32m     18\u001b[0m             \u001b[0mprint\u001b[0m\u001b[0;34m(\u001b[0m\u001b[0;34m'State is changed'\u001b[0m\u001b[0;34m)\u001b[0m\u001b[0;34m\u001b[0m\u001b[0;34m\u001b[0m\u001b[0m\n\u001b[1;32m     19\u001b[0m             \u001b[0mself\u001b[0m\u001b[0;34m.\u001b[0m\u001b[0mexecute_query\u001b[0m\u001b[0;34m(\u001b[0m\u001b[0;34m)\u001b[0m\u001b[0;34m\u001b[0m\u001b[0;34m\u001b[0m\u001b[0m\n",
      "\u001b[0;32m/tmp/ipykernel_6356/1987450686.py\u001b[0m in \u001b[0;36mchange_detected\u001b[0;34m(self)\u001b[0m\n\u001b[1;32m      9\u001b[0m     \u001b[0;34m@\u001b[0m\u001b[0mproperty\u001b[0m\u001b[0;34m\u001b[0m\u001b[0;34m\u001b[0m\u001b[0m\n\u001b[1;32m     10\u001b[0m     \u001b[0;32mdef\u001b[0m \u001b[0mchange_detected\u001b[0m\u001b[0;34m(\u001b[0m\u001b[0mself\u001b[0m\u001b[0;34m)\u001b[0m\u001b[0;34m:\u001b[0m\u001b[0;34m\u001b[0m\u001b[0;34m\u001b[0m\u001b[0m\n\u001b[0;32m---> 11\u001b[0;31m         \u001b[0;32mreturn\u001b[0m \u001b[0mself\u001b[0m\u001b[0;34m.\u001b[0m\u001b[0mvar\u001b[0m\u001b[0;34m.\u001b[0m\u001b[0mvalue\u001b[0m \u001b[0;34m!=\u001b[0m \u001b[0mself\u001b[0m\u001b[0;34m.\u001b[0m\u001b[0mprev_state\u001b[0m\u001b[0;34m\u001b[0m\u001b[0;34m\u001b[0m\u001b[0m\n\u001b[0m\u001b[1;32m     12\u001b[0m \u001b[0;34m\u001b[0m\u001b[0m\n\u001b[1;32m     13\u001b[0m     \u001b[0;32mdef\u001b[0m \u001b[0mset_previous_state\u001b[0m\u001b[0;34m(\u001b[0m\u001b[0mself\u001b[0m\u001b[0;34m)\u001b[0m\u001b[0;34m:\u001b[0m\u001b[0;34m\u001b[0m\u001b[0;34m\u001b[0m\u001b[0m\n",
      "\u001b[0;32m/tmp/ipykernel_6356/1604556786.py\u001b[0m in \u001b[0;36mvalue\u001b[0;34m(self)\u001b[0m\n\u001b[1;32m     14\u001b[0m             \u001b[0;32mreturn\u001b[0m \u001b[0mself\u001b[0m\u001b[0;34m.\u001b[0m\u001b[0mtest\u001b[0m\u001b[0;34m\u001b[0m\u001b[0;34m\u001b[0m\u001b[0m\n\u001b[1;32m     15\u001b[0m         \u001b[0;32melse\u001b[0m\u001b[0;34m:\u001b[0m\u001b[0;34m\u001b[0m\u001b[0;34m\u001b[0m\u001b[0m\n\u001b[0;32m---> 16\u001b[0;31m             \u001b[0;32mreturn\u001b[0m \u001b[0mself\u001b[0m\u001b[0;34m.\u001b[0m\u001b[0mplc\u001b[0m\u001b[0;34m.\u001b[0m\u001b[0mread_by_name\u001b[0m\u001b[0;34m(\u001b[0m\u001b[0mself\u001b[0m\u001b[0;34m.\u001b[0m\u001b[0mpath\u001b[0m\u001b[0;34m,\u001b[0m\u001b[0mself\u001b[0m\u001b[0;34m.\u001b[0m\u001b[0mvar_type\u001b[0m\u001b[0;34m)\u001b[0m\u001b[0;31m# read from plc\u001b[0m\u001b[0;34m\u001b[0m\u001b[0;34m\u001b[0m\u001b[0m\n\u001b[0m",
      "\u001b[0;32m~/.local/lib/python3.8/site-packages/pyads/ads.py\u001b[0m in \u001b[0;36mread_by_name\u001b[0;34m(self, data_name, plc_datatype, return_ctypes, handle, check_length, cache_symbol_info)\u001b[0m\n\u001b[1;32m    870\u001b[0m             \u001b[0mplc_datatype\u001b[0m \u001b[0;34m=\u001b[0m \u001b[0mself\u001b[0m\u001b[0;34m.\u001b[0m\u001b[0m_query_plc_datatype_from_name\u001b[0m\u001b[0;34m(\u001b[0m\u001b[0mdata_name\u001b[0m\u001b[0;34m,\u001b[0m \u001b[0mcache_symbol_info\u001b[0m\u001b[0;34m)\u001b[0m\u001b[0;34m\u001b[0m\u001b[0;34m\u001b[0m\u001b[0m\n\u001b[1;32m    871\u001b[0m \u001b[0;34m\u001b[0m\u001b[0m\n\u001b[0;32m--> 872\u001b[0;31m         return adsSyncReadByNameEx(\n\u001b[0m\u001b[1;32m    873\u001b[0m             \u001b[0mself\u001b[0m\u001b[0;34m.\u001b[0m\u001b[0m_port\u001b[0m\u001b[0;34m,\u001b[0m\u001b[0;34m\u001b[0m\u001b[0;34m\u001b[0m\u001b[0m\n\u001b[1;32m    874\u001b[0m             \u001b[0mself\u001b[0m\u001b[0;34m.\u001b[0m\u001b[0m_adr\u001b[0m\u001b[0;34m,\u001b[0m\u001b[0;34m\u001b[0m\u001b[0;34m\u001b[0m\u001b[0m\n",
      "\u001b[0;32m~/.local/lib/python3.8/site-packages/pyads/pyads_ex.py\u001b[0m in \u001b[0;36madsSyncReadByNameEx\u001b[0;34m(port, address, data_name, data_type, return_ctypes, handle, check_length)\u001b[0m\n\u001b[1;32m   1046\u001b[0m     \u001b[0;32mif\u001b[0m \u001b[0mhandle\u001b[0m \u001b[0;32mis\u001b[0m \u001b[0;32mNone\u001b[0m\u001b[0;34m:\u001b[0m\u001b[0;34m\u001b[0m\u001b[0;34m\u001b[0m\u001b[0m\n\u001b[1;32m   1047\u001b[0m         \u001b[0mno_handle\u001b[0m \u001b[0;34m=\u001b[0m \u001b[0;32mTrue\u001b[0m\u001b[0;34m\u001b[0m\u001b[0;34m\u001b[0m\u001b[0m\n\u001b[0;32m-> 1048\u001b[0;31m         \u001b[0mhandle\u001b[0m \u001b[0;34m=\u001b[0m \u001b[0madsGetHandle\u001b[0m\u001b[0;34m(\u001b[0m\u001b[0mport\u001b[0m\u001b[0;34m,\u001b[0m \u001b[0maddress\u001b[0m\u001b[0;34m,\u001b[0m \u001b[0mdata_name\u001b[0m\u001b[0;34m)\u001b[0m\u001b[0;34m\u001b[0m\u001b[0;34m\u001b[0m\u001b[0m\n\u001b[0m\u001b[1;32m   1049\u001b[0m     \u001b[0;32melse\u001b[0m\u001b[0;34m:\u001b[0m\u001b[0;34m\u001b[0m\u001b[0;34m\u001b[0m\u001b[0m\n\u001b[1;32m   1050\u001b[0m         \u001b[0mno_handle\u001b[0m \u001b[0;34m=\u001b[0m \u001b[0;32mFalse\u001b[0m\u001b[0;34m\u001b[0m\u001b[0;34m\u001b[0m\u001b[0m\n",
      "\u001b[0;32m~/.local/lib/python3.8/site-packages/pyads/pyads_ex.py\u001b[0m in \u001b[0;36madsGetHandle\u001b[0;34m(port, address, data_name)\u001b[0m\n\u001b[1;32m    830\u001b[0m     \u001b[0;34m:\u001b[0m\u001b[0;32mreturn\u001b[0m\u001b[0;34m:\u001b[0m \u001b[0mhandle\u001b[0m\u001b[0;34m:\u001b[0m \u001b[0mPLC\u001b[0m\u001b[0;34m-\u001b[0m\u001b[0mvariable\u001b[0m \u001b[0mhandle\u001b[0m\u001b[0;34m\u001b[0m\u001b[0;34m\u001b[0m\u001b[0m\n\u001b[1;32m    831\u001b[0m     \"\"\"\n\u001b[0;32m--> 832\u001b[0;31m     handle = adsSyncReadWriteReqEx2(\n\u001b[0m\u001b[1;32m    833\u001b[0m         \u001b[0mport\u001b[0m\u001b[0;34m,\u001b[0m\u001b[0;34m\u001b[0m\u001b[0;34m\u001b[0m\u001b[0m\n\u001b[1;32m    834\u001b[0m         \u001b[0maddress\u001b[0m\u001b[0;34m,\u001b[0m\u001b[0;34m\u001b[0m\u001b[0;34m\u001b[0m\u001b[0m\n",
      "\u001b[0;32m~/.local/lib/python3.8/site-packages/pyads/pyads_ex.py\u001b[0m in \u001b[0;36madsSyncReadWriteReqEx2\u001b[0;34m(port, address, index_group, index_offset, read_data_type, value, write_data_type, return_ctypes, check_length)\u001b[0m\n\u001b[1;32m    692\u001b[0m \u001b[0;34m\u001b[0m\u001b[0m\n\u001b[1;32m    693\u001b[0m     \u001b[0;32mif\u001b[0m \u001b[0merr_code\u001b[0m\u001b[0;34m:\u001b[0m\u001b[0;34m\u001b[0m\u001b[0;34m\u001b[0m\u001b[0m\n\u001b[0;32m--> 694\u001b[0;31m         \u001b[0;32mraise\u001b[0m \u001b[0mADSError\u001b[0m\u001b[0;34m(\u001b[0m\u001b[0merr_code\u001b[0m\u001b[0;34m)\u001b[0m\u001b[0;34m\u001b[0m\u001b[0;34m\u001b[0m\u001b[0m\n\u001b[0m\u001b[1;32m    695\u001b[0m \u001b[0;34m\u001b[0m\u001b[0m\n\u001b[1;32m    696\u001b[0m     \u001b[0;32mif\u001b[0m \u001b[0mindex_group\u001b[0m \u001b[0;34m==\u001b[0m \u001b[0mADSIGRP_SUMUP_READ\u001b[0m \u001b[0;32mor\u001b[0m \u001b[0mindex_group\u001b[0m \u001b[0;34m==\u001b[0m \u001b[0mADSIGRP_SUMUP_WRITE\u001b[0m\u001b[0;34m:\u001b[0m\u001b[0;34m\u001b[0m\u001b[0;34m\u001b[0m\u001b[0m\n",
      "\u001b[0;31mADSError\u001b[0m: ADSError: timeout elapsed (1861). "
     ]
    },
    {
     "name": "stderr",
     "output_type": "stream",
     "text": [
      "2022-04-17T19:26:18+0300 Warning: InvokeId mismatch: waiting for 0x0 received 0x187c1b\n",
      "2022-04-17T19:26:18+0300 Warning: No response pending\n"
     ]
    }
   ],
   "source": [
    "var_c = Variable('MAIN.bSWITCH_1',pyads.PLCTYPE_BOOL,plc, name='Switch 1')\n",
    "var_f = Variable('MAIN.bSWITCH_2',pyads.PLCTYPE_BOOL,plc, name='Switch 2')\n",
    "var_d = Variable('MAIN.bSWITCH_3',pyads.PLCTYPE_BOOL,plc, name='Switch 3')\n",
    "var_g = Variable('MAIN.bSWITCH_4',pyads.PLCTYPE_BOOL,plc, name='Switch 4')\n",
    "\n",
    "s1_sc = SwitchControl(var_c)\n",
    "s2_sc = SwitchControl(var_f)\n",
    "s3_sc = SwitchControl(var_d)\n",
    "s4_sc = SwitchControl(var_g)\n",
    "\n",
    "while True:\n",
    "    s1_sc.check_state()\n",
    "    s2_sc.check_state()\n",
    "    s3_sc.check_state()\n",
    "    s4_sc.check_state()\n",
    "\n",
    "plc.close()\n",
    "\n"
   ]
  },
  {
   "cell_type": "code",
   "execution_count": 29,
   "metadata": {},
   "outputs": [
    {
     "name": "stderr",
     "output_type": "stream",
     "text": [
      "2022-04-17T15:09:24+0300 Info: connection closed by remote\n"
     ]
    }
   ],
   "source": [
    "plc.close()"
   ]
  },
  {
   "cell_type": "code",
   "execution_count": null,
   "metadata": {},
   "outputs": [],
   "source": []
  }
 ],
 "metadata": {
  "interpreter": {
   "hash": "31f2aee4e71d21fbe5cf8b01ff0e069b9275f58929596ceb00d14d90e3e16cd6"
  },
  "kernelspec": {
   "display_name": "Python 3.8.10 64-bit",
   "language": "python",
   "name": "python3"
  },
  "language_info": {
   "codemirror_mode": {
    "name": "ipython",
    "version": 3
   },
   "file_extension": ".py",
   "mimetype": "text/x-python",
   "name": "python",
   "nbconvert_exporter": "python",
   "pygments_lexer": "ipython3",
   "version": "3.8.10"
  },
  "orig_nbformat": 4
 },
 "nbformat": 4,
 "nbformat_minor": 2
}
