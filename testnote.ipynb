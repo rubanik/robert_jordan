{
 "cells": [
  {
   "cell_type": "code",
   "execution_count": 1,
   "metadata": {},
   "outputs": [],
   "source": [
    "import datetime\n",
    "import pyads"
   ]
  },
  {
   "cell_type": "code",
   "execution_count": 5,
   "metadata": {},
   "outputs": [],
   "source": [
    "TEST_VAR = Variable('MAIN.bSWITCH_1',pyads.PLCTYPE_BOOL,Plc('1'), name='Switch 1',test=True)"
   ]
  },
  {
   "cell_type": "code",
   "execution_count": 2,
   "metadata": {},
   "outputs": [],
   "source": [
    "def db_execute(query,data):\n",
    "    print(f'OK -----   {query} + ',data)"
   ]
  },
  {
   "cell_type": "code",
   "execution_count": 3,
   "metadata": {},
   "outputs": [],
   "source": [
    "class Plc:\n",
    "    def __init__(self,address):\n",
    "        self.address = address\n",
    "        self.connect()\n",
    "\n",
    "    def connect(self):\n",
    "        return (True,f'Connected to {self.address}')\n",
    "    \n",
    "    def read_by_name(self,path,name):\n",
    "        return '200'"
   ]
  },
  {
   "cell_type": "code",
   "execution_count": 14,
   "metadata": {},
   "outputs": [
    {
     "data": {
      "text/plain": [
       "'200'"
      ]
     },
     "execution_count": 14,
     "metadata": {},
     "output_type": "execute_result"
    }
   ],
   "source": [
    "plc = Plc('1')\n",
    "plc.read_by_name(1,2)"
   ]
  },
  {
   "cell_type": "code",
   "execution_count": 4,
   "metadata": {},
   "outputs": [],
   "source": [
    "class Variable:\n",
    "\n",
    "    def __init__(self,path,var_type,plc,\n",
    "                name='',ctrl_type = 'state', test = False):\n",
    "        self.path = path\n",
    "        self.name = name if name else path\n",
    "        self.var_type = var_type\n",
    "        self.plc = plc\n",
    "        self.test = test\n",
    "\n",
    "    @property\n",
    "    def value(self):\n",
    "        if self.test:\n",
    "            return self.test\n",
    "        else: \n",
    "            return self.plc.read_by_name(self.path,self.var_type)# read from plc\n"
   ]
  },
  {
   "cell_type": "code",
   "execution_count": 6,
   "metadata": {},
   "outputs": [],
   "source": [
    "class StateControler:\n",
    "\n",
    "    QUERY = 'BASIC_QUERY'\n",
    "\n",
    "    def __init__(self,var):\n",
    "        self.var = var\n",
    "        self.prev_state = self.var.value\n",
    "\n",
    "    @property\n",
    "    def change_detected(self):\n",
    "        return self.var.value != self.prev_state\n",
    "    \n",
    "    def set_previous_state(self):\n",
    "        self.prev_state = self.var.value\n",
    "\n",
    "    def check_state(self):\n",
    "        if self.change_detected:\n",
    "            print('State is changed')\n",
    "            self.execute_query()\n",
    "            self.set_previous_state()\n",
    "\n",
    "    def get_data(self):\n",
    "        return 'Some DATA'\n",
    "\n",
    "    def execute_query(self):\n",
    "        db_execute(self.QUERY, self.get_data())\n"
   ]
  },
  {
   "cell_type": "code",
   "execution_count": 7,
   "metadata": {},
   "outputs": [],
   "source": [
    "class SwitchControl(StateControler):\n",
    "\n",
    "    QUERY = 'SWITCH_QUERY'\n",
    "\n",
    "    last_change_time = ''\n",
    "\n",
    "    @property\n",
    "    def time_of_switch(self):\n",
    "        return datetime.datetime.now()\n",
    "\n",
    "    def get_data(self):\n",
    "        name = self.var.name\n",
    "        value = self.var.value\n",
    "        timest = self.time_of_switch\n",
    "\n",
    "        return (name,timest,value)"
   ]
  },
  {
   "cell_type": "code",
   "execution_count": 8,
   "metadata": {},
   "outputs": [],
   "source": [
    "# функция которая начинает ивент\n",
    "\n",
    "# функция которая заканчивает ивент\n",
    "\n",
    "# проверка состояния Event-а\n",
    "class SwitchEventControl(StateControler):\n",
    "    \n",
    "    QUERY = 'SWITCH EVENT QUERY'\n",
    "\n",
    "    def __init__(self, var, condition=None):\n",
    "        StateControler.__init__(self,var)\n",
    "        self.condition = condition\n",
    "        self.start_time = ''\n",
    "        self.finish_time = ''\n",
    "\n",
    "    def _set_time(self):\n",
    "        if self.start_time:\n",
    "            self.finish_time = datetime.datetime.now()\n",
    "        else:\n",
    "            self.start_time = datetime.datetime.now()\n",
    "\n",
    "    def _set_flag(self):\n",
    "        self.flag = not self.flag\n",
    "\n",
    "    def start_event(self):\n",
    "            self._set_time()\n",
    "\n",
    "    def finish_event(self):\n",
    "            self._set_time()\n",
    "\n",
    "    "
   ]
  },
  {
   "cell_type": "code",
   "execution_count": 9,
   "metadata": {},
   "outputs": [
    {
     "name": "stdout",
     "output_type": "stream",
     "text": [
      "2022-04-18 21:36:46.399525\n",
      "2022-04-18 21:36:46.401697\n"
     ]
    }
   ],
   "source": [
    "sec = SwitchEventControl(TEST_VAR)\n",
    "\n",
    "sec.start_event()\n",
    "print(sec.start_time)\n",
    "sec.finish_event()\n",
    "print(sec.finish_time)"
   ]
  },
  {
   "cell_type": "code",
   "execution_count": 24,
   "metadata": {},
   "outputs": [
    {
     "name": "stderr",
     "output_type": "stream",
     "text": [
      "2022-04-18T21:36:00+0300 Error: Connect TCP socket failed with: 4\n"
     ]
    },
    {
     "ename": "KeyboardInterrupt",
     "evalue": "",
     "output_type": "error",
     "traceback": [
      "\u001b[0;31m---------------------------------------------------------------------------\u001b[0m",
      "\u001b[0;31mKeyboardInterrupt\u001b[0m                         Traceback (most recent call last)",
      "\u001b[0;32m/tmp/ipykernel_112388/999930202.py\u001b[0m in \u001b[0;36m<module>\u001b[0;34m\u001b[0m\n\u001b[1;32m      1\u001b[0m \u001b[0;32mimport\u001b[0m \u001b[0mpyads\u001b[0m\u001b[0;34m\u001b[0m\u001b[0;34m\u001b[0m\u001b[0m\n\u001b[1;32m      2\u001b[0m \u001b[0mplc\u001b[0m \u001b[0;34m=\u001b[0m \u001b[0mpyads\u001b[0m\u001b[0;34m.\u001b[0m\u001b[0mConnection\u001b[0m\u001b[0;34m(\u001b[0m\u001b[0;34m'192.168.1.177.1.1'\u001b[0m\u001b[0;34m,\u001b[0m\u001b[0;36m801\u001b[0m\u001b[0;34m)\u001b[0m\u001b[0;34m\u001b[0m\u001b[0;34m\u001b[0m\u001b[0m\n\u001b[0;32m----> 3\u001b[0;31m \u001b[0mplc\u001b[0m\u001b[0;34m.\u001b[0m\u001b[0mopen\u001b[0m\u001b[0;34m(\u001b[0m\u001b[0;34m)\u001b[0m\u001b[0;34m\u001b[0m\u001b[0;34m\u001b[0m\u001b[0m\n\u001b[0m",
      "\u001b[0;32m~/.local/lib/python3.8/site-packages/pyads/ads.py\u001b[0m in \u001b[0;36mopen\u001b[0;34m(self)\u001b[0m\n\u001b[1;32m    536\u001b[0m \u001b[0;34m\u001b[0m\u001b[0m\n\u001b[1;32m    537\u001b[0m         \u001b[0;32mif\u001b[0m \u001b[0mlinux\u001b[0m\u001b[0;34m:\u001b[0m\u001b[0;34m\u001b[0m\u001b[0;34m\u001b[0m\u001b[0m\n\u001b[0;32m--> 538\u001b[0;31m             \u001b[0madsAddRoute\u001b[0m\u001b[0;34m(\u001b[0m\u001b[0mself\u001b[0m\u001b[0;34m.\u001b[0m\u001b[0m_adr\u001b[0m\u001b[0;34m.\u001b[0m\u001b[0mnetIdStruct\u001b[0m\u001b[0;34m(\u001b[0m\u001b[0;34m)\u001b[0m\u001b[0;34m,\u001b[0m \u001b[0mself\u001b[0m\u001b[0;34m.\u001b[0m\u001b[0mip_address\u001b[0m\u001b[0;34m)\u001b[0m\u001b[0;34m\u001b[0m\u001b[0;34m\u001b[0m\u001b[0m\n\u001b[0m\u001b[1;32m    539\u001b[0m \u001b[0;34m\u001b[0m\u001b[0m\n\u001b[1;32m    540\u001b[0m         \u001b[0mself\u001b[0m\u001b[0;34m.\u001b[0m\u001b[0m_open\u001b[0m \u001b[0;34m=\u001b[0m \u001b[0;32mTrue\u001b[0m\u001b[0;34m\u001b[0m\u001b[0;34m\u001b[0m\u001b[0m\n",
      "\u001b[0;32m~/.local/lib/python3.8/site-packages/pyads/pyads_ex.py\u001b[0m in \u001b[0;36mwrapper\u001b[0;34m(*args, **kwargs)\u001b[0m\n\u001b[1;32m    146\u001b[0m                 \u001b[0;34m\"Configure AMS routes using the TwinCAT router service.\"\u001b[0m\u001b[0;34m\u001b[0m\u001b[0;34m\u001b[0m\u001b[0m\n\u001b[1;32m    147\u001b[0m             )\n\u001b[0;32m--> 148\u001b[0;31m         \u001b[0;32mreturn\u001b[0m \u001b[0mfn\u001b[0m\u001b[0;34m(\u001b[0m\u001b[0;34m*\u001b[0m\u001b[0margs\u001b[0m\u001b[0;34m,\u001b[0m \u001b[0;34m**\u001b[0m\u001b[0mkwargs\u001b[0m\u001b[0;34m)\u001b[0m\u001b[0;34m\u001b[0m\u001b[0;34m\u001b[0m\u001b[0m\n\u001b[0m\u001b[1;32m    149\u001b[0m \u001b[0;34m\u001b[0m\u001b[0m\n\u001b[1;32m    150\u001b[0m     \u001b[0;32mreturn\u001b[0m \u001b[0mwrapper\u001b[0m\u001b[0;34m\u001b[0m\u001b[0;34m\u001b[0m\u001b[0m\n",
      "\u001b[0;32m~/.local/lib/python3.8/site-packages/pyads/pyads_ex.py\u001b[0m in \u001b[0;36madsAddRoute\u001b[0;34m(net_id, ip_address)\u001b[0m\n\u001b[1;32m    165\u001b[0m     \u001b[0mip_address_p\u001b[0m \u001b[0;34m=\u001b[0m \u001b[0mctypes\u001b[0m\u001b[0;34m.\u001b[0m\u001b[0mc_char_p\u001b[0m\u001b[0;34m(\u001b[0m\u001b[0mip_address\u001b[0m\u001b[0;34m.\u001b[0m\u001b[0mencode\u001b[0m\u001b[0;34m(\u001b[0m\u001b[0;34m\"utf-8\"\u001b[0m\u001b[0;34m)\u001b[0m\u001b[0;34m)\u001b[0m\u001b[0;34m\u001b[0m\u001b[0;34m\u001b[0m\u001b[0m\n\u001b[1;32m    166\u001b[0m \u001b[0;34m\u001b[0m\u001b[0m\n\u001b[0;32m--> 167\u001b[0;31m     \u001b[0merror_code\u001b[0m \u001b[0;34m=\u001b[0m \u001b[0madd_route\u001b[0m\u001b[0;34m(\u001b[0m\u001b[0mnet_id\u001b[0m\u001b[0;34m,\u001b[0m \u001b[0mip_address_p\u001b[0m\u001b[0;34m)\u001b[0m\u001b[0;34m\u001b[0m\u001b[0;34m\u001b[0m\u001b[0m\n\u001b[0m\u001b[1;32m    168\u001b[0m \u001b[0;34m\u001b[0m\u001b[0m\n\u001b[1;32m    169\u001b[0m     \u001b[0;32mif\u001b[0m \u001b[0merror_code\u001b[0m\u001b[0;34m:\u001b[0m\u001b[0;34m\u001b[0m\u001b[0;34m\u001b[0m\u001b[0m\n",
      "\u001b[0;31mKeyboardInterrupt\u001b[0m: "
     ]
    }
   ],
   "source": [
    "import pyads\n",
    "plc = pyads.Connection('192.168.1.177.1.1',801)\n",
    "plc.open()"
   ]
  },
  {
   "cell_type": "code",
   "execution_count": null,
   "metadata": {},
   "outputs": [],
   "source": [
    "var_c = Variable('MAIN.bSWITCH_1',pyads.PLCTYPE_BOOL,plc, name='Switch 1')\n",
    "var_f = Variable('MAIN.bSWITCH_2',pyads.PLCTYPE_BOOL,plc, name='Switch 2')\n",
    "var_d = Variable('MAIN.bSWITCH_3',pyads.PLCTYPE_BOOL,plc, name='Switch 3')\n",
    "var_g = Variable('MAIN.bSWITCH_4',pyads.PLCTYPE_BOOL,plc, name='Switch 4')\n",
    "\n",
    "s1_sc = SwitchControl(var_c)\n",
    "s2_sc = SwitchControl(var_f)\n",
    "s3_sc = SwitchControl(var_d)\n",
    "s4_sc = SwitchControl(var_g)\n",
    "\n",
    "while True:\n",
    "    s1_sc.check_state()\n",
    "    s2_sc.check_state()\n",
    "    s3_sc.check_state()\n",
    "    s4_sc.check_state()\n",
    "\n",
    "plc.close()\n",
    "\n"
   ]
  },
  {
   "cell_type": "code",
   "execution_count": null,
   "metadata": {},
   "outputs": [],
   "source": [
    "plc.close()"
   ]
  },
  {
   "cell_type": "code",
   "execution_count": null,
   "metadata": {},
   "outputs": [],
   "source": [
    "a = True\n",
    "b = 4 if not a else a"
   ]
  },
  {
   "cell_type": "code",
   "execution_count": null,
   "metadata": {},
   "outputs": [],
   "source": []
  }
 ],
 "metadata": {
  "interpreter": {
   "hash": "31f2aee4e71d21fbe5cf8b01ff0e069b9275f58929596ceb00d14d90e3e16cd6"
  },
  "kernelspec": {
   "display_name": "Python 3.8.10 64-bit",
   "language": "python",
   "name": "python3"
  },
  "language_info": {
   "codemirror_mode": {
    "name": "ipython",
    "version": 3
   },
   "file_extension": ".py",
   "mimetype": "text/x-python",
   "name": "python",
   "nbconvert_exporter": "python",
   "pygments_lexer": "ipython3",
   "version": "3.8.10"
  },
  "orig_nbformat": 4
 },
 "nbformat": 4,
 "nbformat_minor": 2
}
