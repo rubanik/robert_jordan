{
 "cells": [
  {
   "cell_type": "code",
   "execution_count": 2,
   "metadata": {},
   "outputs": [],
   "source": [
    "data = (1,1,1,'cl_position')\n",
    "structure = ('cl_id', 'cl_group_id', 'cl_type_id')"
   ]
  },
  {
   "cell_type": "code",
   "execution_count": 7,
   "metadata": {},
   "outputs": [],
   "source": [
    "cl_info = dict(zip(structure,data))"
   ]
  },
  {
   "cell_type": "code",
   "execution_count": 11,
   "metadata": {},
   "outputs": [
    {
     "data": {
      "text/plain": [
       "{'cl_id': 1, 'cl_group_id': 1, 'cl_type_id': 1}"
      ]
     },
     "execution_count": 11,
     "metadata": {},
     "output_type": "execute_result"
    }
   ],
   "source": [
    "cl_info"
   ]
  },
  {
   "cell_type": "code",
   "execution_count": 12,
   "metadata": {},
   "outputs": [],
   "source": [
    "cl_id = cl_info['cl_id']\n",
    "cl_group_id = cl_info['cl_group_id']\n",
    "cl_type_id = cl_info['cl_type_id']"
   ]
  },
  {
   "cell_type": "code",
   "execution_count": 13,
   "metadata": {},
   "outputs": [],
   "source": [
    "cl_data = {'tstamp':'23.05.2022 20:54','cl_value':150}"
   ]
  },
  {
   "cell_type": "code",
   "execution_count": 18,
   "metadata": {},
   "outputs": [],
   "source": [
    "query  = \"\"\"INSERT INTO cl_data_logging VALUES(%s, %s, %s, %s, %s)\"\"\"%(cl_data['tstamp'],cl_data['cl_value'],cl_info['cl_id'], cl_info['cl_group_id'], cl_info['cl_type_id'])"
   ]
  },
  {
   "cell_type": "code",
   "execution_count": 17,
   "metadata": {},
   "outputs": [
    {
     "data": {
      "text/plain": [
       "' INSERT INTO cl_data_logging VALUES(23.05.2022 20:54, 150, 1, 1, 1)'"
      ]
     },
     "execution_count": 17,
     "metadata": {},
     "output_type": "execute_result"
    }
   ],
   "source": [
    "query"
   ]
  },
  {
   "cell_type": "code",
   "execution_count": 72,
   "metadata": {},
   "outputs": [],
   "source": [
    "class DataInit:\n",
    "    \"\"\"Класс в котором мы через запрос к ДБ получаем список контролируемых параметров\"\"\"\n",
    "\n",
    "    RAW_DATA = None # Data collected after SQL request\n",
    "    CL_LIST_FROM_DB = [] # It's the result. List with dictionaries with a cl inside. \n",
    "    DATA_INIT_QUERY = 'SELECT cl_id,cl_group_id,cl_type_id FROM cl_list_lookup' # SQL query for pulling cl_list from the CL_LIST table.\n",
    "    DATA_STRUCTURE = ('cl_id', 'cl_group_id', 'cl_type_id') # TODO: GET DATA STRUCTURE()\n",
    "\n",
    "    def __init__(self,db=None):\n",
    "        \"\"\"При инициировании вытягиваем данные из таблицы. Если в конструктор не передать дб ничего не получится\"\"\"\n",
    "        self.db = db\n",
    "        self.start_it()\n",
    "\n",
    "\n",
    "    @property\n",
    "    def cl_list(self):\n",
    "        \"\"\" Метод, возвращающий подготовленный для создания объекта Center Line список со словарями\"\"\" # TODO: Изменить описание.\n",
    "        if len(self.CL_LIST_FROM_DB) > 0:\n",
    "            return self.CL_LIST_FROM_DB\n",
    "        else:\n",
    "            return self.generate_cl_list()\n",
    "    \n",
    "    def start_it(self):\n",
    "        \n",
    "        try:\n",
    "            self._get_cl_list_() # Get the data.\n",
    "        except FileNotFoundError:\n",
    "            print('Тут что то не так с подключением к db')\n",
    "        except Exception as e:\n",
    "            print(e)\n",
    "\n",
    "\n",
    "    def _get_cl_list_(self):\n",
    "        if self.db:\n",
    "            self.RAW_DATA = self.db.execute(self.DATA_INIT_QUERY)\n",
    "        else:\n",
    "            raise FileNotFoundError\n",
    "    \n",
    "    def generate_cl_list(self):\n",
    "        if self.RAW_DATA:\n",
    "            for data in self.RAW_DATA:\n",
    "                data_dict = dict(zip(self.DATA_STRUCTURE, data))\n",
    "                self.CL_LIST_FROM_DB.append(data_dict)\n",
    "            return self.CL_LIST_FROM_DB\n",
    "    \n",
    "class db:\n",
    "\n",
    "    def execute(self,query):\n",
    "        return [(1,1,1,'cl_position'),(2,2,1,'cl_position'),(3,1,4,'cl_position'),(3,1,1,'cl_position')]\n",
    "\n"
   ]
  },
  {
   "cell_type": "code",
   "execution_count": 76,
   "metadata": {},
   "outputs": [],
   "source": [
    "cl = DataInit(db()).cl_list"
   ]
  },
  {
   "cell_type": "code",
   "execution_count": 77,
   "metadata": {},
   "outputs": [
    {
     "name": "stdout",
     "output_type": "stream",
     "text": [
      "[{'cl_id': 1, 'cl_group_id': 1, 'cl_type_id': 1}, {'cl_id': 2, 'cl_group_id': 2, 'cl_type_id': 1}, {'cl_id': 3, 'cl_group_id': 1, 'cl_type_id': 4}, {'cl_id': 3, 'cl_group_id': 1, 'cl_type_id': 1}]\n"
     ]
    }
   ],
   "source": [
    "print(cl)"
   ]
  },
  {
   "cell_type": "code",
   "execution_count": null,
   "metadata": {},
   "outputs": [],
   "source": []
  }
 ],
 "metadata": {
  "interpreter": {
   "hash": "5838e27ae6e5f63883f9eb8ce03f648aa46f55c4439c50397998ab079e7b8c68"
  },
  "kernelspec": {
   "display_name": "Python 3.9.5 64-bit",
   "language": "python",
   "name": "python3"
  },
  "language_info": {
   "codemirror_mode": {
    "name": "ipython",
    "version": 3
   },
   "file_extension": ".py",
   "mimetype": "text/x-python",
   "name": "python",
   "nbconvert_exporter": "python",
   "pygments_lexer": "ipython3",
   "version": "3.9.5"
  },
  "orig_nbformat": 4
 },
 "nbformat": 4,
 "nbformat_minor": 2
}
