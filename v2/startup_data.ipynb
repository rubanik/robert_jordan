{
 "cells": [
  {
   "cell_type": "code",
   "execution_count": 7,
   "metadata": {},
   "outputs": [
    {
     "name": "stdout",
     "output_type": "stream",
     "text": [
      "DB CONNECTION IS OPEN\n",
      "DB CONNECTION CLOSED\n"
     ]
    }
   ],
   "source": [
    "import psycopg2\n",
    "\n",
    "class Database():\n",
    "\n",
    "    DB_NAME = 'RRP_FilterReceiverData'\n",
    "    DB_USER = 'remote_user'\n",
    "    DB_PASS = 'remote'\n",
    "    DB_HOST = '10.143.253.45'\n",
    "    DB_ALT = 'CSV'              # Альтернативная DB. На счучай сбоя в подключении.\n",
    "\n",
    "    DB_CONNECTION_STR = f'dbname={DB_NAME} user={DB_USER} password={DB_PASS} host={DB_HOST}'\n",
    "\n",
    "    def __init__(self):\n",
    "        self.connected = False\n",
    "        self.db_connection = self.connect()\n",
    "\n",
    "\n",
    "    def connect(self):\n",
    "        connection = psycopg2.connect(self.DB_CONNECTION_STR)\n",
    "        self.connected = True\n",
    "        print('DB CONNECTION IS OPEN')\n",
    "        return connection\n",
    "    \n",
    "    @property # DELETE PROPERTY\n",
    "    def cursor(self):\n",
    "        return self.db_connection.cursor()\n",
    "\n",
    "    def disconnect(self):\n",
    "        self.db_connection.close()\n",
    "        print('DB CONNECTION CLOSED')\n",
    "\n",
    "    def send_query(self,query,data):\n",
    "        if self.connected:\n",
    "            self.cursor.execute(query,data) #TRY EXCEПТ\n",
    "    \n",
    "    def send_select_query(self,query):\n",
    "        if self.connected:\n",
    "            cur = self.cursor\n",
    "            cur.execute(query) #TRY EXCEПТ\n",
    "            return  cur.fetchall()\n",
    "    \n",
    "    \n",
    "    def commit(self):\n",
    "        self.db_connection.commit()\n",
    "        self.cursor.close()\n",
    "\n",
    "if __name__ == \"__main__\":\n",
    "    db = Database()\n",
    "    db.send_select_query('SELECT * from cl_list')\n",
    "    db.disconnect()\n"
   ]
  },
  {
   "cell_type": "code",
   "execution_count": null,
   "metadata": {},
   "outputs": [],
   "source": [
    "data = (1,1,1,'cl_position')\n",
    "structure = ('cl_id', 'cl_group_id', 'cl_type_id')\n",
    "cl_info = dict(zip(structure,data))"
   ]
  },
  {
   "cell_type": "code",
   "execution_count": null,
   "metadata": {},
   "outputs": [],
   "source": [
    "cl_id = cl_info['cl_id']\n",
    "cl_group_id = cl_info['cl_group_id']\n",
    "cl_type_id = cl_info['cl_type_id']"
   ]
  },
  {
   "cell_type": "code",
   "execution_count": null,
   "metadata": {},
   "outputs": [],
   "source": [
    "cl_data = {'tstamp':'23.05.2022 20:54','cl_value':150}"
   ]
  },
  {
   "cell_type": "code",
   "execution_count": null,
   "metadata": {},
   "outputs": [],
   "source": [
    "query  = \"\"\"INSERT INTO cl_data_logging VALUES(%s, %s, %s, %s, %s)\"\"\"%(cl_data['tstamp'],cl_data['cl_value'],cl_info['cl_id'], cl_info['cl_group_id'], cl_info['cl_type_id'])"
   ]
  },
  {
   "cell_type": "code",
   "execution_count": 13,
   "metadata": {},
   "outputs": [],
   "source": [
    "class DataInit:\n",
    "    \"\"\"Класс в котором мы через запрос к ДБ получаем список контролируемых параметров\"\"\"\n",
    "\n",
    "    RAW_DATA = None # Data collected after SQL request\n",
    "    CL_LIST_FROM_DB = [] # It's the result. List with dictionaries with a cl inside. \n",
    "    DATA_INIT_QUERY = 'SELECT cl_type_id,cl_equip_group_id,cl_name,cl_setpoint,cl_plc_path,cl_data_type FROM cl_list' # SQL query for pulling cl_list from the CL_LIST table.\n",
    "    DATA_STRUCTURE = ('cl_type_id', 'cl_equip_group_id', 'cl_name', 'cl_setpoint','cl_plc_path','cl_data_type') # TODO: GET DATA STRUCTURE()\n",
    "\n",
    "    def __init__(self,db=None):\n",
    "        \"\"\"При инициировании вытягиваем данные из таблицы. Если в конструктор не передать дб ничего не получится\"\"\"\n",
    "        self.db = db\n",
    "        self.start_it()\n",
    "\n",
    "\n",
    "    @property\n",
    "    def cl_list(self):\n",
    "        \"\"\" Метод, возвращающий подготовленный для создания объекта Center Line список со словарями\"\"\" # TODO: Изменить описание.\n",
    "        if len(self.CL_LIST_FROM_DB) > 0:\n",
    "            return self.CL_LIST_FROM_DB\n",
    "        else:\n",
    "            return self.generate_cl_list()\n",
    "    \n",
    "    def start_it(self):\n",
    "        try:\n",
    "            self._get_cl_list_() # Get the data.\n",
    "        except FileNotFoundError:\n",
    "            print('Тут что то не так с подключением к db')\n",
    "        except Exception as e:\n",
    "            print(e)\n",
    "\n",
    "\n",
    "    def _get_cl_list_(self):\n",
    "        if self.db:\n",
    "            self.RAW_DATA = self.db.send_select_query(self.DATA_INIT_QUERY)\n",
    "        else:\n",
    "            raise FileNotFoundError\n",
    "    \n",
    "    def generate_cl_list(self):\n",
    "        if self.RAW_DATA:\n",
    "            result = []\n",
    "            for data in self.RAW_DATA:\n",
    "                data_dict = dict(zip(self.DATA_STRUCTURE, data))\n",
    "                #  вместо использования атрибута класса создам ка я временный лист\n",
    "                result.append(data_dict)\n",
    "\n",
    "                #self.CL_LIST_FROM_DB.append(data_dict)\n",
    "            return result\n",
    "            #return self.CL_LIST_FROM_DB\n",
    "    \n",
    "class db_test:\n",
    "\n",
    "    def execute(self,query):\n",
    "        return [(1,1,1,'cl_position'),(2,2,1,'cl_position'),(3,1,4,'cl_position'),(3,1,1,'cl_position')]\n",
    "\n"
   ]
  },
  {
   "cell_type": "code",
   "execution_count": 14,
   "metadata": {},
   "outputs": [
    {
     "name": "stdout",
     "output_type": "stream",
     "text": [
      "[(11, 1, 1, Decimal('500'), None, None, 'MS_Flow2_Final_Cut_Camera_Control.QB_cam_trigger_activate_ph_npr', 'INT', 'Фаза активации тригера'), (1, 1, 1, Decimal('1'), None, None, 'FC_M1_Centerer_Product_Check.QB_check_jam_enable_dpr', 'BOOL', 'Проверка замятия на барабане М1'), (13, 2, 1, Decimal('1'), None, None, 'MS_Flow2_CID_Control.check_enable_dpr', 'BOOL', 'CID - Система включена')]\n"
     ]
    }
   ],
   "source": [
    "DB_CONNECTION_STR_1 = f\"dbname='RRP_FilterReceiverData' user=remote_user password=remote host=10.143.253.45\"\n",
    "db = psycopg2.connect(DB_CONNECTION_STR_1)\n",
    "cur = db.cursor()\n",
    "\n",
    "cur.execute('SELECT * FROM cl_list')\n",
    "print(cur.fetchall())\n",
    "\n",
    "cur.close()\n",
    "db.close()"
   ]
  },
  {
   "cell_type": "code",
   "execution_count": null,
   "metadata": {},
   "outputs": [],
   "source": []
  },
  {
   "cell_type": "code",
   "execution_count": 21,
   "metadata": {},
   "outputs": [
    {
     "name": "stdout",
     "output_type": "stream",
     "text": [
      "DB CONNECTION IS OPEN\n",
      "{'cl_type_id': 1, 'cl_equip_group_id': 1, 'cl_name': 'Фаза активации тригера', 'cl_setpoint': Decimal('500'), 'cl_plc_path': 'MS_Flow2_Final_Cut_Camera_Control.QB_cam_trigger_activate_ph_npr', 'cl_data_type': 'INT'}\n",
      "{'cl_type_id': 1, 'cl_equip_group_id': 1, 'cl_name': 'Проверка замятия на барабане М1', 'cl_setpoint': Decimal('1'), 'cl_plc_path': 'FC_M1_Centerer_Product_Check.QB_check_jam_enable_dpr', 'cl_data_type': 'BOOL'}\n",
      "{'cl_type_id': 2, 'cl_equip_group_id': 1, 'cl_name': 'CID - Система включена', 'cl_setpoint': Decimal('1'), 'cl_plc_path': 'MS_Flow2_CID_Control.check_enable_dpr', 'cl_data_type': 'BOOL'}\n",
      "{'cl_type_id': 2, 'cl_equip_group_id': 1, 'cl_name': 'CID - Фаза контроля', 'cl_setpoint': Decimal('5'), 'cl_plc_path': 'MS_Flow2_CID_Control.QB_check_phase_npr', 'cl_data_type': 'INT'}\n",
      "DB CONNECTION CLOSED\n"
     ]
    }
   ],
   "source": [
    "db = Database()\n",
    "l = None\n",
    "l = DataInit(db).generate_cl_list()\n",
    "\n",
    "print(*l,sep='\\n')\n",
    "\n",
    "db.disconnect()"
   ]
  },
  {
   "cell_type": "code",
   "execution_count": 23,
   "metadata": {},
   "outputs": [
    {
     "name": "stdout",
     "output_type": "stream",
     "text": [
      "1\n"
     ]
    }
   ],
   "source": [
    "print(l[0]['cl_setpoint'])"
   ]
  },
  {
   "cell_type": "code",
   "execution_count": null,
   "metadata": {},
   "outputs": [],
   "source": []
  }
 ],
 "metadata": {
  "interpreter": {
   "hash": "c109e741da5d55b6b22b22e6e0805bdbdb1150f98e4b23001838929d1a175134"
  },
  "kernelspec": {
   "display_name": "Python 3.9.5 64-bit",
   "language": "python",
   "name": "python3"
  },
  "language_info": {
   "codemirror_mode": {
    "name": "ipython",
    "version": 3
   },
   "file_extension": ".py",
   "mimetype": "text/x-python",
   "name": "python",
   "nbconvert_exporter": "python",
   "pygments_lexer": "ipython3",
   "version": "3.9.5"
  },
  "orig_nbformat": 4
 },
 "nbformat": 4,
 "nbformat_minor": 2
}
