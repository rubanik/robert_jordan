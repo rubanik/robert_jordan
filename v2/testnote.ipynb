{
 "cells": [
  {
   "cell_type": "markdown",
   "metadata": {},
   "source": [
    "# Импортируем библиотеки"
   ]
  },
  {
   "cell_type": "code",
   "execution_count": null,
   "metadata": {},
   "outputs": [],
   "source": [
    "import datetime, time\n",
    "import random\n",
    "import pyads\n",
    "import psycopg as psycopg2\n",
    "import time"
   ]
  },
  {
   "cell_type": "markdown",
   "metadata": {},
   "source": [
    "## Тестовый коннект к серверу"
   ]
  },
  {
   "cell_type": "code",
   "execution_count": null,
   "metadata": {},
   "outputs": [],
   "source": [
    "import pyads\n",
    "plc = pyads.Connection('192.168.1.177.1.1',801)\n",
    "\n",
    "plc.open()\n",
    "\n",
    "print(plc.read_by_name('MAIN.bSWITCH_1',pyads.PLCTYPE_BOOL))\n",
    "\n",
    "plc.close()"
   ]
  },
  {
   "cell_type": "code",
   "execution_count": null,
   "metadata": {},
   "outputs": [],
   "source": [
    "def db_execute(query,data):\n",
    "    print(f'OK -----   {query} + ',data)"
   ]
  },
  {
   "cell_type": "markdown",
   "metadata": {},
   "source": [
    "## Класс для работы с базой данных"
   ]
  },
  {
   "cell_type": "code",
   "execution_count": null,
   "metadata": {},
   "outputs": [],
   "source": [
    "# тестовое подключение\n",
    "TEST_DATA = (datetime.datetime.now(),datetime.datetime.now(),random.randint(0,100),'PLC.TEST_BOOL','admin')\n",
    "\n",
    "Q_INSERT_IN_LOG = '''INSERT INTO process_flow_log\n",
    "                    (\n",
    "                        start_date, \n",
    "                        finish_date, \n",
    "                        event_duration, \n",
    "                        variable, \n",
    "                        user_name\n",
    "                    )\n",
    "                    VALUES (%s, %s, %s, %s, %s)'''\n",
    "\n",
    "connection_info = \"dbname=combiner_data user=postgres password=1122 host=localhost\"\n",
    "connection_to_db = psycopg2.connect(connection_info)\n",
    "connection_to_db.execute(Q_INSERT_IN_LOG,TEST_DATA)\n",
    "connection_to_db.commit()\n",
    "connection_to_db.close()"
   ]
  },
  {
   "cell_type": "code",
   "execution_count": null,
   "metadata": {},
   "outputs": [],
   "source": [
    "class Database():\n",
    "\n",
    "    DB_NAME = 'combiner_data'\n",
    "    DB_USER = 'postgres'\n",
    "    DB_PASS = '1122'\n",
    "    DB_HOST = 'localhost'\n",
    "    DB_ALT = 'CSV'              # Альтернативная DB. На счучай сбоя в подключении.\n",
    "\n",
    "    DB_CONNECTION_STR = f'dbname={DB_NAME} user={DB_USER} password={DB_PASS} host={DB_HOST}'\n",
    "\n",
    "    def __init__(self):\n",
    "        self.connected = False\n",
    "        self.db_connection = self.connect()\n",
    "\n",
    "\n",
    "    def connect(self):\n",
    "        connection = psycopg2.connect(self.DB_CONNECTION_STR)\n",
    "        self.connected = True\n",
    "        print('DB CONNECTION IS OPEN')\n",
    "        return connection\n",
    "    \n",
    "    @property\n",
    "    def cursor(self):\n",
    "        return self.db_connection.cursor()\n",
    "\n",
    "    def disconnect(self):\n",
    "        self.db_connection.close()\n",
    "\n",
    "    def send_query(self,query,data):\n",
    "        if self.connected:\n",
    "            self.cursor.execute(query,data) #TRY EXCEПТ\n",
    "    \n",
    "    def commit(self):\n",
    "        self.db_connection.commit()\n",
    "        self.cursor.close()\n",
    "\n",
    "# if __name__ == \"__main__\":\n",
    "#     start = datetime.datetime.now()\n",
    "#     db = Database()\n",
    "#     for i in range(60):\n",
    "#         db.send_query(Q_INSERT_IN_LOG,TEST_DATA)\n",
    "#     db.commit()\n",
    "#     finish = datetime.datetime.now() -start\n",
    "#     print(finish)\n",
    "#     db.disconnect()\n"
   ]
  },
  {
   "cell_type": "code",
   "execution_count": null,
   "metadata": {},
   "outputs": [],
   "source": [
    "class Plc:\n",
    "    def __init__(self,address,port,name='Unnamed'):\n",
    "        self.address = address\n",
    "        self.port = port\n",
    "        self.plc_connection = self.connect()\n",
    "        self._open_connection()\n",
    "        self.test_state = False\n",
    "\n",
    "    def connect(self):\n",
    "        return pyads.Connection(self.address, self.port)\n",
    "    \n",
    "    def _open_connection(self):\n",
    "        if self.plc_connection:\n",
    "            self.plc_connection.open()\n",
    "            print('PLC CONNECTION IS OPEN')\n",
    "\n",
    "    def close_connection(self):\n",
    "        if self.plc_connection.is_open:\n",
    "            self.plc_connection.close()\n",
    "            print('PLC CONNECTION IS CLOSE')\n",
    "    \n",
    "    def read_by_name(self,path,name):\n",
    "        return self.plc_connection.read_by_name(path,name)"
   ]
  },
  {
   "cell_type": "code",
   "execution_count": null,
   "metadata": {},
   "outputs": [],
   "source": [
    "class Variable:\n",
    "\n",
    "    def __init__(self,path,var_type,plc,\n",
    "                name='',ctrl_type = 'state', test = None):\n",
    "        self.path = path\n",
    "        self.name = name if name else path\n",
    "        self.var_type = var_type\n",
    "        self.plc = plc\n",
    "        self.test = test\n",
    "\n",
    "    @property\n",
    "    def value(self):\n",
    "        if self.test == True:\n",
    "            return self.test\n",
    "        else: \n",
    "            return self.plc.read_by_name(self.path,self.var_type)# read from plc\n"
   ]
  },
  {
   "cell_type": "code",
   "execution_count": null,
   "metadata": {},
   "outputs": [],
   "source": [
    "class StateControler:\n",
    "\n",
    "    QUERY = 'BASIC_QUERY'\n",
    "\n",
    "    def __init__(self,var):\n",
    "        self.var = var\n",
    "        self.prev_state = self.var.value\n",
    "\n",
    "\n",
    "    @property\n",
    "    def change_detected(self):\n",
    "        return self.var.value != self.prev_state\n",
    "\n",
    "\n",
    "    def set_previous_state(self):\n",
    "        self.prev_state = self.var.value\n",
    "\n",
    "\n",
    "    def check_state(self):\n",
    "        if self.change_detected:\n",
    "            print('State is changed')\n",
    "            self.execute_query()\n",
    "            self.set_previous_state()\n",
    "\n",
    "\n",
    "    def get_data(self):\n",
    "        return 'Some DATA'\n",
    "\n",
    "\n",
    "    def execute_query(self):\n",
    "        if self.var.test:    \n",
    "            db_execute(self.QUERY, self.get_data())\n",
    "        else:\n",
    "            database.send_query(self.QUERY, self.get_data())\n"
   ]
  },
  {
   "cell_type": "code",
   "execution_count": null,
   "metadata": {},
   "outputs": [],
   "source": [
    "class SwitchControl(StateControler):\n",
    "\n",
    "    QUERY = 'SWITCH_QUERY'\n",
    "\n",
    "    last_change_time = ''\n",
    "\n",
    "    @property\n",
    "    def time_of_switch(self):\n",
    "        return datetime.datetime.now()\n",
    "\n",
    "    def get_data(self):\n",
    "        name = self.var.name\n",
    "        value = self.var.value\n",
    "        timest = self.time_of_switch\n",
    "\n",
    "        return (name,timest,value)"
   ]
  },
  {
   "cell_type": "code",
   "execution_count": null,
   "metadata": {},
   "outputs": [],
   "source": [
    "class SwitchEventControl(StateControler):\n",
    "    \n",
    "    QUERY = '''INSERT INTO process_flow_log\n",
    "                    (\n",
    "                        start_date, \n",
    "                        finish_date, \n",
    "                        event_duration, \n",
    "                        variable, \n",
    "                        user_name\n",
    "                    )\n",
    "                    VALUES (%s, %s, %s, %s, %s)'''\n",
    "\n",
    "\n",
    "    def __init__(self, var, good_state ,condition=None):\n",
    "        StateControler.__init__(self,var)\n",
    "        self.condition = condition\n",
    "        self.start_time = ''\n",
    "        self.finish_time = ''\n",
    "        self.flag = False\n",
    "        self.good_state = good_state\n",
    "        \n",
    "    @property\n",
    "    def change_detected(self):\n",
    "        return self.var.value != self.good_state\n",
    "\n",
    "    \n",
    "    @property\n",
    "    def duration(self):\n",
    "        \"\"\" Возвращает длительность события - Tfinish - Tstart \"\"\"\n",
    "        duration = self.finish_time - self.start_time\n",
    "        return duration.seconds\n",
    "\n",
    "\n",
    "    def _set_time(self):\n",
    "        if self.start_time:\n",
    "            self.finish_time = datetime.datetime.now()\n",
    "        else:\n",
    "            self.start_time = datetime.datetime.now()\n",
    "\n",
    "\n",
    "    def _set_flag(self):\n",
    "        self.flag = not self.flag\n",
    "        print(self.flag)\n",
    "\n",
    "\n",
    "    def check_state(self):\n",
    "        changes = self.change_detected \n",
    "        if not changes and self.flag:\n",
    "            print('Завершаем Событие')\n",
    "            self.finish_event()\n",
    "            self._set_flag()\n",
    "            self.execute_query()\n",
    "        if changes and self.flag != True:\n",
    "            print('Начинаем Событие')\n",
    "            self.start_event()\n",
    "            self._set_flag()\n",
    "\n",
    "\n",
    "    def get_data(self):\n",
    "        return (self.start_time,\n",
    "                self.finish_time,\n",
    "                self.duration,\n",
    "                self.var.name,\n",
    "                'PLACE_FOR_CONDITION')\n",
    "\n",
    "    def start_event(self):\n",
    "            self._set_time()\n",
    "\n",
    "    def finish_event(self):\n",
    "            self._set_time()\n",
    "\n",
    "# if __name__ == '__main__':\n",
    "    \n",
    "#     import time\n",
    "\n",
    "#     sec = SwitchEventControl(TEST_VAR,True)\n",
    "#     TEST_VAR.test = True\n",
    "\n",
    "#     sec.check_state()\n",
    "   \n",
    "#     #sec.var.plc.test_state = False\n",
    "#     TEST_VAR.test = False\n",
    "#     sec.check_state()\n",
    "#     time.sleep(2)\n",
    "#     TEST_VAR.test = False\n",
    "#     sec.check_state()\n",
    "#     database.commit()\n",
    "#     database.disconnect()\n",
    "        "
   ]
  },
  {
   "cell_type": "code",
   "execution_count": null,
   "metadata": {},
   "outputs": [],
   "source": [
    "database = Database()\n",
    "plc = Plc('192.168.1.177.1.1',801)\n",
    "\n",
    "var_c = Variable('MAIN.bSWITCH_1',pyads.PLCTYPE_BOOL,plc, name='Switch 1')\n",
    "var_f = Variable('MAIN.bSWITCH_2',pyads.PLCTYPE_BOOL,plc, name='Switch 2')\n",
    "var_d = Variable('MAIN.bSWITCH_3',pyads.PLCTYPE_BOOL,plc, name='Switch 3')\n",
    "var_g = Variable('MAIN.bSWITCH_4',pyads.PLCTYPE_BOOL,plc, name='Switch 4')\n",
    "\n",
    "s1_sc = SwitchEventControl(var_c,False)\n",
    "s2_sc = SwitchEventControl(var_f,False)\n",
    "s3_sc = SwitchEventControl(var_d,False)\n",
    "s4_sc = SwitchEventControl(var_g,False)\n",
    "\n",
    "while True:\n",
    "    try:\n",
    "        s1_sc.check_state()\n",
    "        s2_sc.check_state()\n",
    "        s3_sc.check_state()\n",
    "        s4_sc.check_state()\n",
    "\n",
    "        database.commit()\n",
    "    except Exception as e:\n",
    "        print(e)\n",
    "        plc.close_connection()\n",
    "        database.disconnect()\n",
    "        break\n",
    "    \n",
    "\n"
   ]
  },
  {
   "cell_type": "code",
   "execution_count": null,
   "metadata": {},
   "outputs": [],
   "source": [
    "TEST_VAR = Variable('MAIN.bSWITCH_1',pyads.PLCTYPE_BOOL,Plc('1'), name='Switch 1',test=False)"
   ]
  },
  {
   "cell_type": "code",
   "execution_count": null,
   "metadata": {},
   "outputs": [],
   "source": [
    "# Подключаемся к контроллеру\n",
    "\n",
    "plc = pyads.Connection('192.168.1.177.1.1',801)\n",
    "plc.open()\n",
    "plc.is_open\n",
    "plc.read_by_name()\n"
   ]
  },
  {
   "cell_type": "code",
   "execution_count": null,
   "metadata": {},
   "outputs": [],
   "source": [
    "import time\n",
    "\n",
    "sec = SwitchEventControl(TEST_VAR)\n",
    "\n",
    "sec.start_event()\n",
    "print(sec.start_time)\n",
    "time.sleep(5)\n",
    "sec.finish_event()\n",
    "print(sec.finish_time)\n",
    "print()"
   ]
  },
  {
   "cell_type": "code",
   "execution_count": null,
   "metadata": {},
   "outputs": [],
   "source": [
    "var_c = Variable('MAIN.bSWITCH_1',pyads.PLCTYPE_BOOL,plc, name='Switch 1')\n",
    "var_f = Variable('MAIN.bSWITCH_2',pyads.PLCTYPE_BOOL,plc, name='Switch 2')\n",
    "var_d = Variable('MAIN.bSWITCH_3',pyads.PLCTYPE_BOOL,plc, name='Switch 3')\n",
    "var_g = Variable('MAIN.bSWITCH_4',pyads.PLCTYPE_BOOL,plc, name='Switch 4')\n",
    "\n",
    "s1_sc = SwitchControl(var_c)\n",
    "s2_sc = SwitchControl(var_f)\n",
    "s3_sc = SwitchControl(var_d)\n",
    "s4_sc = SwitchControl(var_g)\n",
    "\n",
    "while True:\n",
    "    s1_sc.check_state()\n",
    "    s2_sc.check_state()\n",
    "    s3_sc.check_state()\n",
    "    s4_sc.check_state()\n",
    "\n",
    "plc.close()\n",
    "\n"
   ]
  },
  {
   "cell_type": "code",
   "execution_count": null,
   "metadata": {},
   "outputs": [],
   "source": [
    "plc.close()\n"
   ]
  },
  {
   "cell_type": "markdown",
   "metadata": {},
   "source": [
    "# Переделываю класс Variable для работы с dict"
   ]
  },
  {
   "cell_type": "code",
   "execution_count": null,
   "metadata": {},
   "outputs": [],
   "source": [
    "test_dict = {'cl_type_id':1, 'cl_equip_group_id':1, 'cl_name':'Drum Speed', 'cl_setpoint':1000,'cl_plc_path':'Drum.Drive.Speed','cl_data_type':'INT'}"
   ]
  },
  {
   "cell_type": "code",
   "execution_count": null,
   "metadata": {},
   "outputs": [],
   "source": [
    "class Variable_D:\n",
    "\n",
    "    def __init__(self,plc,param):\n",
    "        self.plc = plc # Controller with PLC inside\n",
    "        self.cl_type = param['cl_type_id'] # type like KEY,MASTER,BRAND\n",
    "        self.cl_equip_group_id = param['cl_equip_group_id'] # Group is like GD, GIMA, etc\n",
    "        self.cl_name =  param['cl_name'] if param['cl_name'] else param['cl_plc_path'] # If there is no name use plc.path\n",
    "        self.cl_path = param['cl_plc_path']\n",
    "        self.var_type = self.choose_pyads_plc_type(param['cl_data_type'])\n",
    "        \n",
    "    @property\n",
    "    def value(self):\n",
    "        try:\n",
    "            value = self.plc.read_by_name(self.path,self.var_type)# read from plc\n",
    "            return value\n",
    "        except Exception as ex:\n",
    "            print('Проблема при считывании переменной', ex, sep='\\n')\n",
    "    \n",
    "    def choose_pyads_plc_type(self,cl_var_type):\n",
    "        \"\"\" Выбираем на основе полученной str с типом тип pyads.PLCTYPE...\"\"\"\n",
    "        type = None\n",
    "\n",
    "        if cl_var_type == 'INT':\n",
    "            type = pyads.PLCTYPE_INT\n",
    "        elif cl_var_type == 'BOOL':\n",
    "            type = pyads.PLCTYPE_BOOL\n",
    "        elif cl_var_type == 'REAL':\n",
    "            type = pyads.PLCTYPE_LREAL\n",
    "\n",
    "        return type"
   ]
  },
  {
   "cell_type": "code",
   "execution_count": null,
   "metadata": {},
   "outputs": [],
   "source": [
    "test_var = Variable_D('plc',test_dict)\n",
    "\n",
    "print(\n",
    "    test_var.plc,\n",
    "    test_var.cl_type,\n",
    "    test_var.cl_equip_group_id,\n",
    "    test_var.cl_name,\n",
    "    test_var.cl_path,\n",
    "    test_var.var_type, sep='\\n'\n",
    ")\n",
    "test_var.choose_pyads_plc_type()"
   ]
  },
  {
   "cell_type": "code",
   "execution_count": null,
   "metadata": {},
   "outputs": [],
   "source": [
    "class VariableGroup:\n",
    "    def __init__ (self, variables):\n",
    "        self.variables = variables\n"
   ]
  },
  {
   "cell_type": "markdown",
   "metadata": {},
   "source": [
    "Создаём группу.\n",
    "На основе группы создаём контроли.\n",
    "    считываем списком состояние переменных\n",
    "    проверяем в контроле на изменение;"
   ]
  },
  {
   "cell_type": "code",
   "execution_count": 15,
   "metadata": {},
   "outputs": [
    {
     "name": "stdout",
     "output_type": "stream",
     "text": [
      "69 400 Value from PLC directly\n",
      "['main.one', 'main.two']\n"
     ]
    }
   ],
   "source": [
    "import random\n",
    "\n",
    "class Var:\n",
    "    def __init__(self,name,ct):\n",
    "        self.name = name\n",
    "        self.group = None\n",
    "        self.ct = ct\n",
    "\n",
    "    def read_value(self):\n",
    "        if self.group:\n",
    "            return self.group.all_values[self.name]\n",
    "        else:\n",
    "            return 'Value from PLC directly'\n",
    "\n",
    "class VarGroup:\n",
    "\n",
    "    def __init__(self,group):\n",
    "        self.group = group\n",
    "        self.path_list = self.generate_paths()\n",
    "        self.all_values = {}\n",
    "        self.attach_to_group()\n",
    "\n",
    "    def generate_paths(self):\n",
    "        return [x.name for x in group]\n",
    "\n",
    "    def attach_to_group(self):\n",
    "        for variable in group:\n",
    "            if not variable.group:\n",
    "                variable.group = self\n",
    "\n",
    "    def update_group(self):\n",
    "        self.all_values = {'main.one':random.randint(0,100),'main.two':400}\n",
    "\n",
    "    # def read_var(var):\n",
    "    #     return self.all_values[var.name]\n",
    "\n",
    "\n",
    "v1 = Var('main.one',1)\n",
    "v2 = Var('main.two',1)\n",
    "v3 = Var('main.three',2)\n",
    "\n",
    "l = [v1,v2,v3]\n",
    "\n",
    "group = [v1,v2]\n",
    "group = VarGroup(group)\n",
    "group.update_group()\n",
    "print(v1.read_value(),v2.read_value(),v3.read_value())\n",
    "\n",
    "l2 = [x.name for x in l if x.ct == 1 ]\n",
    "print(l2)\n"
   ]
  },
  {
   "cell_type": "code",
   "execution_count": null,
   "metadata": {},
   "outputs": [],
   "source": []
  },
  {
   "cell_type": "code",
   "execution_count": 35,
   "metadata": {},
   "outputs": [],
   "source": [
    "def decorator_function(func):\n",
    "    def wrapper(var):\n",
    "        var = random.randint(0,10)    \n",
    "        result = func(var)\n",
    "        return result\n",
    "    return wrapper"
   ]
  },
  {
   "cell_type": "code",
   "execution_count": 38,
   "metadata": {},
   "outputs": [],
   "source": [
    "@decorator_function\n",
    "def read_me(var):\n",
    "    return var"
   ]
  },
  {
   "cell_type": "code",
   "execution_count": 64,
   "metadata": {},
   "outputs": [
    {
     "name": "stdout",
     "output_type": "stream",
     "text": [
      "0\n",
      "9\n"
     ]
    }
   ],
   "source": [
    "print(read_me('var'),flush=True)\n",
    "print(read_me('var'),flush=True)"
   ]
  },
  {
   "cell_type": "code",
   "execution_count": null,
   "metadata": {},
   "outputs": [],
   "source": []
  },
  {
   "cell_type": "code",
   "execution_count": null,
   "metadata": {},
   "outputs": [],
   "source": []
  }
 ],
 "metadata": {
  "interpreter": {
   "hash": "c109e741da5d55b6b22b22e6e0805bdbdb1150f98e4b23001838929d1a175134"
  },
  "kernelspec": {
   "display_name": "Python 3.9.5 64-bit",
   "language": "python",
   "name": "python3"
  },
  "language_info": {
   "codemirror_mode": {
    "name": "ipython",
    "version": 3
   },
   "file_extension": ".py",
   "mimetype": "text/x-python",
   "name": "python",
   "nbconvert_exporter": "python",
   "pygments_lexer": "ipython3",
   "version": "3.9.5"
  },
  "orig_nbformat": 4
 },
 "nbformat": 4,
 "nbformat_minor": 2
}
