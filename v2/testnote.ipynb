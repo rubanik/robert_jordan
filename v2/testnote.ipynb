{
 "cells": [
  {
   "cell_type": "markdown",
   "metadata": {},
   "source": [
    "# Импортируем библиотеки"
   ]
  },
  {
   "cell_type": "code",
   "execution_count": null,
   "metadata": {},
   "outputs": [],
   "source": [
    "import datetime, time\n",
    "import random\n",
    "import pyads\n",
    "import psycopg as psycopg2\n",
    "import time"
   ]
  },
  {
   "cell_type": "markdown",
   "metadata": {},
   "source": [
    "## Тестовый коннект к серверу"
   ]
  },
  {
   "cell_type": "code",
   "execution_count": 27,
   "metadata": {},
   "outputs": [
    {
     "name": "stdout",
     "output_type": "stream",
     "text": [
      "True\n"
     ]
    }
   ],
   "source": [
    "import pyads\n",
    "plc = pyads.Connection('192.168.1.177.1.1',801)\n",
    "\n",
    "plc.open()\n",
    "\n",
    "print(plc.read_by_name('MAIN.bSWITCH_1',pyads.PLCTYPE_BOOL))\n",
    "\n",
    "plc.close()"
   ]
  },
  {
   "cell_type": "code",
   "execution_count": null,
   "metadata": {},
   "outputs": [],
   "source": [
    "def db_execute(query,data):\n",
    "    print(f'OK -----   {query} + ',data)"
   ]
  },
  {
   "cell_type": "markdown",
   "metadata": {},
   "source": [
    "## Класс для работы с базой данных"
   ]
  },
  {
   "cell_type": "code",
   "execution_count": null,
   "metadata": {},
   "outputs": [],
   "source": [
    "# тестовое подключение\n",
    "TEST_DATA = (datetime.datetime.now(),datetime.datetime.now(),random.randint(0,100),'PLC.TEST_BOOL','admin')\n",
    "\n",
    "Q_INSERT_IN_LOG = '''INSERT INTO process_flow_log\n",
    "                    (\n",
    "                        start_date, \n",
    "                        finish_date, \n",
    "                        event_duration, \n",
    "                        variable, \n",
    "                        user_name\n",
    "                    )\n",
    "                    VALUES (%s, %s, %s, %s, %s)'''\n",
    "\n",
    "connection_info = \"dbname=combiner_data user=postgres password=1122 host=localhost\"\n",
    "connection_to_db = psycopg2.connect(connection_info)\n",
    "connection_to_db.execute(Q_INSERT_IN_LOG,TEST_DATA)\n",
    "connection_to_db.commit()\n",
    "connection_to_db.close()"
   ]
  },
  {
   "cell_type": "code",
   "execution_count": 54,
   "metadata": {},
   "outputs": [],
   "source": [
    "class Database():\n",
    "\n",
    "    DB_NAME = 'combiner_data'\n",
    "    DB_USER = 'postgres'\n",
    "    DB_PASS = '1122'\n",
    "    DB_HOST = 'localhost'\n",
    "    DB_ALT = 'CSV'              # Альтернативная DB. На счучай сбоя в подключении.\n",
    "\n",
    "    DB_CONNECTION_STR = f'dbname={DB_NAME} user={DB_USER} password={DB_PASS} host={DB_HOST}'\n",
    "\n",
    "    def __init__(self):\n",
    "        self.connected = False\n",
    "        self.db_connection = self.connect()\n",
    "\n",
    "\n",
    "    def connect(self):\n",
    "        connection = psycopg2.connect(self.DB_CONNECTION_STR)\n",
    "        self.connected = True\n",
    "        print('DB CONNECTION IS OPEN')\n",
    "        return connection\n",
    "    \n",
    "    @property\n",
    "    def cursor(self):\n",
    "        return self.db_connection.cursor()\n",
    "\n",
    "    def disconnect(self):\n",
    "        self.db_connection.close()\n",
    "\n",
    "    def send_query(self,query,data):\n",
    "        if self.connected:\n",
    "            self.cursor.execute(query,data) #TRY EXCEПТ\n",
    "    \n",
    "    def commit(self):\n",
    "        self.db_connection.commit()\n",
    "        self.cursor.close()\n",
    "\n",
    "# if __name__ == \"__main__\":\n",
    "#     start = datetime.datetime.now()\n",
    "#     db = Database()\n",
    "#     for i in range(60):\n",
    "#         db.send_query(Q_INSERT_IN_LOG,TEST_DATA)\n",
    "#     db.commit()\n",
    "#     finish = datetime.datetime.now() -start\n",
    "#     print(finish)\n",
    "#     db.disconnect()\n"
   ]
  },
  {
   "cell_type": "code",
   "execution_count": 29,
   "metadata": {},
   "outputs": [],
   "source": [
    "class Plc:\n",
    "    def __init__(self,address,port,name='Unnamed'):\n",
    "        self.address = address\n",
    "        self.port = port\n",
    "        self.plc_connection = self.connect()\n",
    "        self._open_connection()\n",
    "        self.test_state = False\n",
    "\n",
    "    def connect(self):\n",
    "        return pyads.Connection(self.address, self.port)\n",
    "    \n",
    "    def _open_connection(self):\n",
    "        if self.plc_connection:\n",
    "            self.plc_connection.open()\n",
    "            print('PLC CONNECTION IS OPEN')\n",
    "\n",
    "    def close_connection(self):\n",
    "        if self.plc_connection.is_open:\n",
    "            self.plc_connection.close()\n",
    "            print('PLC CONNECTION IS CLOSE')\n",
    "    \n",
    "    def read_by_name(self,path,name):\n",
    "        return self.plc_connection.read_by_name(path,name)"
   ]
  },
  {
   "cell_type": "code",
   "execution_count": null,
   "metadata": {},
   "outputs": [],
   "source": [
    "class Variable:\n",
    "\n",
    "    def __init__(self,path,var_type,plc,\n",
    "                name='',ctrl_type = 'state', test = None):\n",
    "        self.path = path\n",
    "        self.name = name if name else path\n",
    "        self.var_type = var_type\n",
    "        self.plc = plc\n",
    "        self.test = test\n",
    "\n",
    "    @property\n",
    "    def value(self):\n",
    "        if self.test == True:\n",
    "            return self.test\n",
    "        else: \n",
    "            return self.plc.read_by_name(self.path,self.var_type)# read from plc\n"
   ]
  },
  {
   "cell_type": "code",
   "execution_count": null,
   "metadata": {},
   "outputs": [],
   "source": [
    "class StateControler:\n",
    "\n",
    "    QUERY = 'BASIC_QUERY'\n",
    "\n",
    "    def __init__(self,var):\n",
    "        self.var = var\n",
    "        self.prev_state = self.var.value\n",
    "\n",
    "    @property\n",
    "    def change_detected(self):\n",
    "        return self.var.value != self.prev_state\n",
    "    \n",
    "    def set_previous_state(self):\n",
    "        self.prev_state = self.var.value\n",
    "\n",
    "    def check_state(self):\n",
    "        \n",
    "        if self.change_detected:\n",
    "            print('State is changed')\n",
    "            self.execute_query()\n",
    "            self.set_previous_state()\n",
    "\n",
    "    def get_data(self):\n",
    "        return 'Some DATA'\n",
    "\n",
    "    def execute_query(self):\n",
    "        if self.var.test:    \n",
    "            db_execute(self.QUERY, self.get_data())\n",
    "        else:\n",
    "            database.send_query(self.QUERY, self.get_data())\n"
   ]
  },
  {
   "cell_type": "code",
   "execution_count": null,
   "metadata": {},
   "outputs": [],
   "source": [
    "class SwitchControl(StateControler):\n",
    "\n",
    "    QUERY = 'SWITCH_QUERY'\n",
    "\n",
    "    last_change_time = ''\n",
    "\n",
    "    @property\n",
    "    def time_of_switch(self):\n",
    "        return datetime.datetime.now()\n",
    "\n",
    "    def get_data(self):\n",
    "        name = self.var.name\n",
    "        value = self.var.value\n",
    "        timest = self.time_of_switch\n",
    "\n",
    "        return (name,timest,value)"
   ]
  },
  {
   "cell_type": "code",
   "execution_count": 43,
   "metadata": {},
   "outputs": [],
   "source": [
    "class SwitchEventControl(StateControler):\n",
    "    \n",
    "    QUERY = '''INSERT INTO process_flow_log\n",
    "                    (\n",
    "                        start_date, \n",
    "                        finish_date, \n",
    "                        event_duration, \n",
    "                        variable, \n",
    "                        user_name\n",
    "                    )\n",
    "                    VALUES (%s, %s, %s, %s, %s)'''\n",
    "\n",
    "\n",
    "    def __init__(self, var, good_state ,condition=None):\n",
    "        StateControler.__init__(self,var)\n",
    "        self.condition = condition\n",
    "        self.start_time = ''\n",
    "        self.finish_time = ''\n",
    "        self.flag = False\n",
    "        self.good_state = good_state\n",
    "        \n",
    "    @property\n",
    "    def change_detected(self):\n",
    "        return self.var.value != self.good_state\n",
    "\n",
    "    \n",
    "    @property\n",
    "    def duration(self):\n",
    "        \"\"\" Возвращает длительность события - Tfinish - Tstart \"\"\"\n",
    "        duration = self.finish_time - self.start_time\n",
    "        return duration.seconds\n",
    "\n",
    "\n",
    "    def _set_time(self):\n",
    "        if self.start_time:\n",
    "            self.finish_time = datetime.datetime.now()\n",
    "        else:\n",
    "            self.start_time = datetime.datetime.now()\n",
    "\n",
    "\n",
    "    def _set_flag(self):\n",
    "        self.flag = not self.flag\n",
    "        print(self.flag)\n",
    "\n",
    "\n",
    "    def check_state(self):\n",
    "        changes = self.change_detected \n",
    "        if not changes and self.flag:\n",
    "            print('Завершаем Событие')\n",
    "            self.finish_event()\n",
    "            self._set_flag()\n",
    "            self.execute_query()\n",
    "        if changes and self.flag != True:\n",
    "            print('Начинаем Событие')\n",
    "            self.start_event()\n",
    "            self._set_flag()\n",
    "\n",
    "\n",
    "    def get_data(self):\n",
    "        return (self.start_time,\n",
    "                self.finish_time,\n",
    "                self.duration,\n",
    "                self.var.name,\n",
    "                'PLACE_FOR_CONDITION')\n",
    "\n",
    "    def start_event(self):\n",
    "            self._set_time()\n",
    "\n",
    "    def finish_event(self):\n",
    "            self._set_time()\n",
    "\n",
    "# if __name__ == '__main__':\n",
    "    \n",
    "#     import time\n",
    "\n",
    "#     sec = SwitchEventControl(TEST_VAR,True)\n",
    "#     TEST_VAR.test = True\n",
    "\n",
    "#     sec.check_state()\n",
    "   \n",
    "#     #sec.var.plc.test_state = False\n",
    "#     TEST_VAR.test = False\n",
    "#     sec.check_state()\n",
    "#     time.sleep(2)\n",
    "#     TEST_VAR.test = False\n",
    "#     sec.check_state()\n",
    "#     database.commit()\n",
    "#     database.disconnect()\n",
    "        "
   ]
  },
  {
   "cell_type": "code",
   "execution_count": 56,
   "metadata": {},
   "outputs": [
    {
     "name": "stdout",
     "output_type": "stream",
     "text": [
      "DB CONNECTION IS OPEN\n",
      "PLC CONNECTION IS OPEN\n",
      "Начинаем Событие\n",
      "True\n",
      "Завершаем Событие\n",
      "False\n",
      "Начинаем Событие\n",
      "True\n",
      "Начинаем Событие\n",
      "True\n",
      "Начинаем Событие\n",
      "True\n",
      "Начинаем Событие\n",
      "True\n",
      "Завершаем Событие\n",
      "False\n",
      "Завершаем Событие\n",
      "False\n",
      "Завершаем Событие\n",
      "False\n",
      "ADSError: timeout elapsed (1861). \n",
      "PLC CONNECTION IS CLOSE\n"
     ]
    }
   ],
   "source": [
    "database = Database()\n",
    "plc = Plc('192.168.1.177.1.1',801)\n",
    "\n",
    "var_c = Variable('MAIN.bSWITCH_1',pyads.PLCTYPE_BOOL,plc, name='Switch 1')\n",
    "var_f = Variable('MAIN.bSWITCH_2',pyads.PLCTYPE_BOOL,plc, name='Switch 2')\n",
    "var_d = Variable('MAIN.bSWITCH_3',pyads.PLCTYPE_BOOL,plc, name='Switch 3')\n",
    "var_g = Variable('MAIN.bSWITCH_4',pyads.PLCTYPE_BOOL,plc, name='Switch 4')\n",
    "\n",
    "s1_sc = SwitchEventControl(var_c,False)\n",
    "s2_sc = SwitchEventControl(var_f,False)\n",
    "s3_sc = SwitchEventControl(var_d,False)\n",
    "s4_sc = SwitchEventControl(var_g,False)\n",
    "\n",
    "while True:\n",
    "    try:\n",
    "        s1_sc.check_state()\n",
    "        s2_sc.check_state()\n",
    "        s3_sc.check_state()\n",
    "        s4_sc.check_state()\n",
    "\n",
    "        database.commit()\n",
    "    except Exception as e:\n",
    "        print(e)\n",
    "        plc.close_connection()\n",
    "        database.disconnect()\n",
    "        break\n",
    "    \n",
    "\n"
   ]
  },
  {
   "cell_type": "code",
   "execution_count": null,
   "metadata": {},
   "outputs": [],
   "source": [
    "TEST_VAR = Variable('MAIN.bSWITCH_1',pyads.PLCTYPE_BOOL,Plc('1'), name='Switch 1',test=False)"
   ]
  },
  {
   "cell_type": "code",
   "execution_count": null,
   "metadata": {},
   "outputs": [],
   "source": [
    "# Подключаемся к контроллеру\n",
    "\n",
    "plc = pyads.Connection('192.168.1.177.1.1',801)\n",
    "plc.open()\n",
    "plc.is_open\n",
    "plc.read_by_name()\n"
   ]
  },
  {
   "cell_type": "code",
   "execution_count": null,
   "metadata": {},
   "outputs": [],
   "source": [
    "import time\n",
    "\n",
    "sec = SwitchEventControl(TEST_VAR)\n",
    "\n",
    "sec.start_event()\n",
    "print(sec.start_time)\n",
    "time.sleep(5)\n",
    "sec.finish_event()\n",
    "print(sec.finish_time)\n",
    "print()"
   ]
  },
  {
   "cell_type": "code",
   "execution_count": null,
   "metadata": {},
   "outputs": [],
   "source": [
    "var_c = Variable('MAIN.bSWITCH_1',pyads.PLCTYPE_BOOL,plc, name='Switch 1')\n",
    "var_f = Variable('MAIN.bSWITCH_2',pyads.PLCTYPE_BOOL,plc, name='Switch 2')\n",
    "var_d = Variable('MAIN.bSWITCH_3',pyads.PLCTYPE_BOOL,plc, name='Switch 3')\n",
    "var_g = Variable('MAIN.bSWITCH_4',pyads.PLCTYPE_BOOL,plc, name='Switch 4')\n",
    "\n",
    "s1_sc = SwitchControl(var_c)\n",
    "s2_sc = SwitchControl(var_f)\n",
    "s3_sc = SwitchControl(var_d)\n",
    "s4_sc = SwitchControl(var_g)\n",
    "\n",
    "while True:\n",
    "    s1_sc.check_state()\n",
    "    s2_sc.check_state()\n",
    "    s3_sc.check_state()\n",
    "    s4_sc.check_state()\n",
    "\n",
    "plc.close()\n",
    "\n"
   ]
  },
  {
   "cell_type": "code",
   "execution_count": null,
   "metadata": {},
   "outputs": [],
   "source": [
    "plc.close()\n"
   ]
  },
  {
   "cell_type": "code",
   "execution_count": null,
   "metadata": {},
   "outputs": [],
   "source": [
    "a = True\n",
    "b = 4 if not a else a"
   ]
  },
  {
   "cell_type": "code",
   "execution_count": null,
   "metadata": {},
   "outputs": [],
   "source": []
  }
 ],
 "metadata": {
  "interpreter": {
   "hash": "31f2aee4e71d21fbe5cf8b01ff0e069b9275f58929596ceb00d14d90e3e16cd6"
  },
  "kernelspec": {
   "display_name": "Python 3.8.10 64-bit",
   "language": "python",
   "name": "python3"
  },
  "language_info": {
   "codemirror_mode": {
    "name": "ipython",
    "version": 3
   },
   "file_extension": ".py",
   "mimetype": "text/x-python",
   "name": "python",
   "nbconvert_exporter": "python",
   "pygments_lexer": "ipython3",
   "version": "3.8.8"
  },
  "orig_nbformat": 4
 },
 "nbformat": 4,
 "nbformat_minor": 2
}
