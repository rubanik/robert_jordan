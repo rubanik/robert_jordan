{
 "cells": [
  {
   "cell_type": "code",
   "execution_count": null,
   "metadata": {},
   "outputs": [],
   "source": [
    "import datetime\n",
    "import pyads"
   ]
  },
  {
   "cell_type": "code",
   "execution_count": null,
   "metadata": {},
   "outputs": [],
   "source": [
    "TEST_VAR = Variable('MAIN.bSWITCH_1',pyads.PLCTYPE_BOOL,Plc('1'), name='Switch 1',test=True)"
   ]
  },
  {
   "cell_type": "code",
   "execution_count": null,
   "metadata": {},
   "outputs": [],
   "source": [
    "def db_execute(query,data):\n",
    "    print(f'OK -----   {query} + ',data)"
   ]
  },
  {
   "cell_type": "code",
   "execution_count": null,
   "metadata": {},
   "outputs": [],
   "source": [
    "class Plc:\n",
    "    def __init__(self,address):\n",
    "        self.address = address\n",
    "        self.connect()\n",
    "\n",
    "    def connect(self):\n",
    "        return (True,f'Connected to {self.address}')\n",
    "    \n",
    "    def read_by_name(self,path,name):\n",
    "        return '200'"
   ]
  },
  {
   "cell_type": "code",
   "execution_count": null,
   "metadata": {},
   "outputs": [],
   "source": [
    "plc = Plc('1')\n",
    "plc.read_by_name(1,2)"
   ]
  },
  {
   "cell_type": "code",
   "execution_count": null,
   "metadata": {},
   "outputs": [],
   "source": [
    "class Variable:\n",
    "\n",
    "    def __init__(self,path,var_type,plc,\n",
    "                name='',ctrl_type = 'state', test = False):\n",
    "        self.path = path\n",
    "        self.name = name if name else path\n",
    "        self.var_type = var_type\n",
    "        self.plc = plc\n",
    "        self.test = test\n",
    "\n",
    "    @property\n",
    "    def value(self):\n",
    "        if self.test:\n",
    "            return self.test\n",
    "        else: \n",
    "            return self.plc.read_by_name(self.path,self.var_type)# read from plc\n"
   ]
  },
  {
   "cell_type": "code",
   "execution_count": null,
   "metadata": {},
   "outputs": [],
   "source": [
    "class StateControler:\n",
    "\n",
    "    QUERY = 'BASIC_QUERY'\n",
    "\n",
    "    def __init__(self,var):\n",
    "        self.var = var\n",
    "        self.prev_state = self.var.value\n",
    "\n",
    "    @property\n",
    "    def change_detected(self):\n",
    "        return self.var.value != self.prev_state\n",
    "    \n",
    "    def set_previous_state(self):\n",
    "        self.prev_state = self.var.value\n",
    "\n",
    "    def check_state(self):\n",
    "        if self.change_detected:\n",
    "            print('State is changed')\n",
    "            self.execute_query()\n",
    "            self.set_previous_state()\n",
    "\n",
    "    def get_data(self):\n",
    "        return 'Some DATA'\n",
    "\n",
    "    def execute_query(self):\n",
    "        db_execute(self.QUERY, self.get_data())\n"
   ]
  },
  {
   "cell_type": "code",
   "execution_count": null,
   "metadata": {},
   "outputs": [],
   "source": [
    "class SwitchControl(StateControler):\n",
    "\n",
    "    QUERY = 'SWITCH_QUERY'\n",
    "\n",
    "    last_change_time = ''\n",
    "\n",
    "    @property\n",
    "    def time_of_switch(self):\n",
    "        return datetime.datetime.now()\n",
    "\n",
    "    def get_data(self):\n",
    "        name = self.var.name\n",
    "        value = self.var.value\n",
    "        timest = self.time_of_switch\n",
    "\n",
    "        return (name,timest,value)"
   ]
  },
  {
   "cell_type": "code",
   "execution_count": null,
   "metadata": {},
   "outputs": [],
   "source": [
    "# функция которая начинает ивент\n",
    "\n",
    "# функция которая заканчивает ивент\n",
    "\n",
    "# проверка состояния Event-а\n",
    "class SwitchEventControl(StateControler):\n",
    "    \n",
    "    QUERY = 'SWITCH EVENT QUERY'\n",
    "\n",
    "    def __init__(self, var, condition=None):\n",
    "        StateControler.__init__(self,var)\n",
    "        self.condition = condition\n",
    "        self.start_time = ''\n",
    "        self.finish_time = ''\n",
    "\n",
    "    def _set_time(self):\n",
    "        if self.start_time:\n",
    "            self.finish_time = datetime.datetime.now()\n",
    "        else:\n",
    "            self.start_time = datetime.datetime.now()\n",
    "\n",
    "    def _set_flag(self):\n",
    "        self.flag = not self.flag\n",
    "\n",
    "    def start_event(self):\n",
    "            self._set_time()\n",
    "\n",
    "    def finish_event(self):\n",
    "            self._set_time()\n",
    "\n",
    "    "
   ]
  },
  {
   "cell_type": "code",
   "execution_count": null,
   "metadata": {},
   "outputs": [],
   "source": [
    "sec = SwitchEventControl(TEST_VAR)\n",
    "\n",
    "sec.start_event()\n",
    "print(sec.start_time)\n",
    "sec.finish_event()\n",
    "print(sec.finish_time)"
   ]
  },
  {
   "cell_type": "code",
   "execution_count": null,
   "metadata": {},
   "outputs": [],
   "source": [
    "import pyads\n",
    "plc = pyads.Connection('192.168.1.177.1.1',801)\n",
    "plc.open()"
   ]
  },
  {
   "cell_type": "code",
   "execution_count": null,
   "metadata": {},
   "outputs": [],
   "source": [
    "var_c = Variable('MAIN.bSWITCH_1',pyads.PLCTYPE_BOOL,plc, name='Switch 1')\n",
    "var_f = Variable('MAIN.bSWITCH_2',pyads.PLCTYPE_BOOL,plc, name='Switch 2')\n",
    "var_d = Variable('MAIN.bSWITCH_3',pyads.PLCTYPE_BOOL,plc, name='Switch 3')\n",
    "var_g = Variable('MAIN.bSWITCH_4',pyads.PLCTYPE_BOOL,plc, name='Switch 4')\n",
    "\n",
    "s1_sc = SwitchControl(var_c)\n",
    "s2_sc = SwitchControl(var_f)\n",
    "s3_sc = SwitchControl(var_d)\n",
    "s4_sc = SwitchControl(var_g)\n",
    "\n",
    "while True:\n",
    "    s1_sc.check_state()\n",
    "    s2_sc.check_state()\n",
    "    s3_sc.check_state()\n",
    "    s4_sc.check_state()\n",
    "\n",
    "plc.close()\n",
    "\n"
   ]
  },
  {
   "cell_type": "code",
   "execution_count": null,
   "metadata": {},
   "outputs": [],
   "source": [
    "plc.close()"
   ]
  },
  {
   "cell_type": "code",
   "execution_count": null,
   "metadata": {},
   "outputs": [],
   "source": [
    "a = True\n",
    "b = 4 if not a else a"
   ]
  },
  {
   "cell_type": "code",
   "execution_count": null,
   "metadata": {},
   "outputs": [],
   "source": []
  }
 ],
 "metadata": {
  "interpreter": {
   "hash": "31f2aee4e71d21fbe5cf8b01ff0e069b9275f58929596ceb00d14d90e3e16cd6"
  },
  "kernelspec": {
   "display_name": "Python 3.8.10 64-bit",
   "language": "python",
   "name": "python3"
  },
  "language_info": {
   "codemirror_mode": {
    "name": "ipython",
    "version": 3
   },
   "file_extension": ".py",
   "mimetype": "text/x-python",
   "name": "python",
   "nbconvert_exporter": "python",
   "pygments_lexer": "ipython3",
   "version": "3.8.10"
  },
  "orig_nbformat": 4
 },
 "nbformat": 4,
 "nbformat_minor": 2
}
