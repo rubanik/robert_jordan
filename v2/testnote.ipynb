{
 "cells": [
  {
   "cell_type": "markdown",
   "metadata": {},
   "source": [
    "# Импортируем библиотеки"
   ]
  },
  {
   "cell_type": "code",
   "execution_count": 22,
   "metadata": {},
   "outputs": [],
   "source": [
    "import datetime, time\n",
    "import random\n",
    "import pyads\n",
    "import psycopg"
   ]
  },
  {
   "cell_type": "markdown",
   "metadata": {},
   "source": [
    "## Тестовый коннект к серверу"
   ]
  },
  {
   "cell_type": "code",
   "execution_count": 2,
   "metadata": {},
   "outputs": [
    {
     "name": "stderr",
     "output_type": "stream",
     "text": [
      "2022-04-25T20:15:44+0300 Info: Connected to 192.168.1.177\n",
      "2022-04-25T20:15:44+0300 Info: connection closed by remote\n"
     ]
    }
   ],
   "source": [
    "import pyads\n",
    "plc = pyads.Connection('192.168.1.177.1.1',801)\n",
    "plc.open()\n",
    "plc.close()"
   ]
  },
  {
   "cell_type": "code",
   "execution_count": 3,
   "metadata": {},
   "outputs": [],
   "source": [
    "def db_execute(query,data):\n",
    "    print(f'OK -----   {query} + ',data)"
   ]
  },
  {
   "cell_type": "markdown",
   "metadata": {},
   "source": [
    "## Класс для работы с базой данных"
   ]
  },
  {
   "cell_type": "code",
   "execution_count": 37,
   "metadata": {},
   "outputs": [],
   "source": [
    "# тестовое подключение\n",
    "TEST_DATA = (datetime.datetime.now(),datetime.datetime.now(),random.randint(0,100),'PLC.TEST_BOOL','admin')\n",
    "\n",
    "Q_INSERT_IN_LOG = '''INSERT INTO process_flow_log\n",
    "                    (\n",
    "                        start_date, \n",
    "                        finish_date, \n",
    "                        event_duration, \n",
    "                        variable, \n",
    "                        user_name\n",
    "                    )\n",
    "                    VALUES (%s, %s, %s, %s, %s)'''\n",
    "\n",
    "connection_info = \"dbname=combiner_data user=postgres password=1122 host=localhost\"\n",
    "connection_to_db = psycopg.connect(connection_info)\n",
    "connection_to_db.execute(Q_INSERT_IN_LOG,TEST_DATA)\n",
    "connection_to_db.commit()\n",
    "connection_to_db.close()"
   ]
  },
  {
   "cell_type": "code",
   "execution_count": 53,
   "metadata": {},
   "outputs": [],
   "source": [
    "class Database():\n",
    "\n",
    "    DB_NAME = 'combiner_data'\n",
    "    DB_USER = 'postgres'\n",
    "    DB_PASS = '1122'\n",
    "    DB_HOST = 'localhost'\n",
    "    DB_ALT = 'CSV'              # Альтернативная DB. На счучай сбоя в подключении.\n",
    "\n",
    "    DB_CONNECTION_STR = f'dbname={DB_NAME} user={DB_USER} password={DB_PASS} host={DB_HOST}'\n",
    "\n",
    "    def __init__(self):\n",
    "        self.connected = False\n",
    "        self.db_connection = self.connect()\n",
    "        \n",
    "    def connect(self):\n",
    "        connection = psycopg.connect(self.DB_CONNECTION_STR)\n",
    "        self.connected = True\n",
    "        return connection\n",
    "\n",
    "    def disconnect(self):\n",
    "        self.db_connection.close()\n",
    "\n",
    "    def send_query(self,query,data):\n",
    "        if self.connected:\n",
    "            self.db_connection.execute(query,data) #TRY EXCEПТ\n",
    "    \n",
    "    def commit(self):\n",
    "        self.db_connection.commit()\n",
    "\n",
    "\n",
    "db = Database()\n",
    "for i in range(100):\n",
    "    db.send_query(Q_INSERT_IN_LOG,TEST_DATA)\n",
    "db.commit()\n",
    "db.disconnect()\n"
   ]
  },
  {
   "cell_type": "code",
   "execution_count": 4,
   "metadata": {},
   "outputs": [],
   "source": [
    "class Plc:\n",
    "    def __init__(self,address):\n",
    "        self.address = address\n",
    "        self.connect()\n",
    "\n",
    "    def connect(self):\n",
    "        return (True,f'Connected to {self.address}')\n",
    "    \n",
    "    def read_by_name(self,path,name):\n",
    "        return '200'"
   ]
  },
  {
   "cell_type": "code",
   "execution_count": 6,
   "metadata": {},
   "outputs": [],
   "source": [
    "class Variable:\n",
    "\n",
    "    def __init__(self,path,var_type,plc,\n",
    "                name='',ctrl_type = 'state', test = False):\n",
    "        self.path = path\n",
    "        self.name = name if name else path\n",
    "        self.var_type = var_type\n",
    "        self.plc = plc\n",
    "        self.test = test\n",
    "\n",
    "    @property\n",
    "    def value(self):\n",
    "        if self.test:\n",
    "            return self.test\n",
    "        else: \n",
    "            return self.plc.read_by_name(self.path,self.var_type)# read from plc\n"
   ]
  },
  {
   "cell_type": "code",
   "execution_count": 7,
   "metadata": {},
   "outputs": [],
   "source": [
    "class StateControler:\n",
    "\n",
    "    QUERY = 'BASIC_QUERY'\n",
    "\n",
    "    def __init__(self,var):\n",
    "        self.var = var\n",
    "        self.prev_state = self.var.value\n",
    "\n",
    "    @property\n",
    "    def change_detected(self):\n",
    "        return self.var.value != self.prev_state\n",
    "    \n",
    "    def set_previous_state(self):\n",
    "        self.prev_state = self.var.value\n",
    "\n",
    "    def check_state(self):\n",
    "        if self.change_detected:\n",
    "            print('State is changed')\n",
    "            self.execute_query()\n",
    "            self.set_previous_state()\n",
    "\n",
    "    def get_data(self):\n",
    "        return 'Some DATA'\n",
    "\n",
    "    def execute_query(self):\n",
    "        db_execute(self.QUERY, self.get_data())\n"
   ]
  },
  {
   "cell_type": "code",
   "execution_count": 8,
   "metadata": {},
   "outputs": [],
   "source": [
    "class SwitchControl(StateControler):\n",
    "\n",
    "    QUERY = 'SWITCH_QUERY'\n",
    "\n",
    "    last_change_time = ''\n",
    "\n",
    "    @property\n",
    "    def time_of_switch(self):\n",
    "        return datetime.datetime.now()\n",
    "\n",
    "    def get_data(self):\n",
    "        name = self.var.name\n",
    "        value = self.var.value\n",
    "        timest = self.time_of_switch\n",
    "\n",
    "        return (name,timest,value)"
   ]
  },
  {
   "cell_type": "code",
   "execution_count": 22,
   "metadata": {},
   "outputs": [],
   "source": [
    "# функция которая начинает ивент\n",
    "\n",
    "# функция которая заканчивает ивент\n",
    "\n",
    "# проверка состояния Event-а\n",
    "class SwitchEventControl(StateControler):\n",
    "    \n",
    "    QUERY = 'SWITCH EVENT QUERY'\n",
    "\n",
    "    def __init__(self, var, condition=None):\n",
    "        StateControler.__init__(self,var)\n",
    "        self.condition = condition\n",
    "        self.start_time = ''\n",
    "        self.finish_time = ''\n",
    "\n",
    "    def check_state(self):\n",
    "        pass\n",
    "\n",
    "    def _set_time(self):\n",
    "        if self.start_time:\n",
    "            self.finish_time = datetime.datetime.now()\n",
    "        else:\n",
    "            self.start_time = datetime.datetime.now()\n",
    "\n",
    "    def _set_flag(self):\n",
    "        self.flag = not self.flag\n",
    "\n",
    "    def start_event(self):\n",
    "            self._set_time()\n",
    "\n",
    "    def finish_event(self):\n",
    "            self._set_time()\n",
    "\n",
    "    "
   ]
  },
  {
   "cell_type": "code",
   "execution_count": 5,
   "metadata": {},
   "outputs": [
    {
     "data": {
      "text/plain": [
       "'200'"
      ]
     },
     "execution_count": 5,
     "metadata": {},
     "output_type": "execute_result"
    }
   ],
   "source": [
    "plc = Plc('1')\n",
    "plc.read_by_name(1,2)"
   ]
  },
  {
   "cell_type": "code",
   "execution_count": null,
   "metadata": {},
   "outputs": [],
   "source": [
    "TEST_VAR = Variable('MAIN.bSWITCH_1',pyads.PLCTYPE_BOOL,Plc('1'), name='Switch 1',test=True)"
   ]
  },
  {
   "cell_type": "code",
   "execution_count": 19,
   "metadata": {},
   "outputs": [
    {
     "name": "stderr",
     "output_type": "stream",
     "text": [
      "2022-04-25T20:09:37+0300 Info: Connected to 192.168.1.177\n"
     ]
    }
   ],
   "source": [
    "# Подключаемся к контроллеру\n",
    "\n",
    "plc = pyads.Connection('192.168.1.177.1.1',801)\n",
    "plc.open()"
   ]
  },
  {
   "cell_type": "code",
   "execution_count": 14,
   "metadata": {},
   "outputs": [
    {
     "name": "stdout",
     "output_type": "stream",
     "text": [
      "2022-04-25 19:49:16.356242\n",
      "2022-04-25 19:49:21.361425\n"
     ]
    }
   ],
   "source": [
    "import time\n",
    "\n",
    "sec = SwitchEventControl(TEST_VAR)\n",
    "\n",
    "sec.start_event()\n",
    "print(sec.start_time)\n",
    "time.sleep(5)\n",
    "sec.finish_event()\n",
    "print(sec.finish_time)"
   ]
  },
  {
   "cell_type": "code",
   "execution_count": null,
   "metadata": {},
   "outputs": [],
   "source": [
    "var_c = Variable('MAIN.bSWITCH_1',pyads.PLCTYPE_BOOL,plc, name='Switch 1')\n",
    "var_f = Variable('MAIN.bSWITCH_2',pyads.PLCTYPE_BOOL,plc, name='Switch 2')\n",
    "var_d = Variable('MAIN.bSWITCH_3',pyads.PLCTYPE_BOOL,plc, name='Switch 3')\n",
    "var_g = Variable('MAIN.bSWITCH_4',pyads.PLCTYPE_BOOL,plc, name='Switch 4')\n",
    "\n",
    "s1_sc = SwitchControl(var_c)\n",
    "s2_sc = SwitchControl(var_f)\n",
    "s3_sc = SwitchControl(var_d)\n",
    "s4_sc = SwitchControl(var_g)\n",
    "\n",
    "while True:\n",
    "    s1_sc.check_state()\n",
    "    s2_sc.check_state()\n",
    "    s3_sc.check_state()\n",
    "    s4_sc.check_state()\n",
    "\n",
    "plc.close()\n",
    "\n"
   ]
  },
  {
   "cell_type": "code",
   "execution_count": 20,
   "metadata": {},
   "outputs": [
    {
     "name": "stderr",
     "output_type": "stream",
     "text": [
      "2022-04-25T20:09:42+0300 Info: connection closed by remote\n"
     ]
    }
   ],
   "source": [
    "plc.close()\n"
   ]
  },
  {
   "cell_type": "code",
   "execution_count": null,
   "metadata": {},
   "outputs": [],
   "source": [
    "a = True\n",
    "b = 4 if not a else a"
   ]
  },
  {
   "cell_type": "code",
   "execution_count": null,
   "metadata": {},
   "outputs": [],
   "source": []
  }
 ],
 "metadata": {
  "interpreter": {
   "hash": "31f2aee4e71d21fbe5cf8b01ff0e069b9275f58929596ceb00d14d90e3e16cd6"
  },
  "kernelspec": {
   "display_name": "Python 3.8.10 64-bit",
   "language": "python",
   "name": "python3"
  },
  "language_info": {
   "codemirror_mode": {
    "name": "ipython",
    "version": 3
   },
   "file_extension": ".py",
   "mimetype": "text/x-python",
   "name": "python",
   "nbconvert_exporter": "python",
   "pygments_lexer": "ipython3",
   "version": "3.8.10"
  },
  "orig_nbformat": 4
 },
 "nbformat": 4,
 "nbformat_minor": 2
}
